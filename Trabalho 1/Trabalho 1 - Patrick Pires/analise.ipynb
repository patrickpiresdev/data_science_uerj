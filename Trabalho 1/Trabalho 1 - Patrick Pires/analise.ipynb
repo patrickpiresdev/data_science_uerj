{
 "cells": [
  {
   "cell_type": "markdown",
   "id": "24a9ac98",
   "metadata": {},
   "source": [
    "# Exercício 1\n",
    "\n",
    "## Enunciado\n",
    "\n",
    "A partir da base de dados:\n",
    "\n",
    "- Parte 1: Descreva a base de dados descrendo os atributos, numéricos e categóricos, classificando segundo a escala (nominal ou razão) e a cardinalidade (discreta, contínua, binária).\n",
    "\n",
    "- Parte 2: Descreva cada um dos atributos segundo frequência, mínimo e máximo valor, dia desvios padrão, conforme o caso.\n",
    "\n",
    "- Parte 3: Avalie os resultados dos processos abaixo, caso sejam utilizados na base de dados, após o processo de classificação com DT ter sido utilizado.\n",
    "    - limpeza de dados (outlier, missing)\n",
    "    - normalização/transformação\n",
    "    - discretização\n",
    "\n",
    "## Parte 1\n",
    "\n",
    "Para entender melhor sobre os dados e conseguir classificá-los e descrevê-los, irei fazer uma análise dos mesmos junto a sua descrição fornecida em `dataset_description.txt`.\n",
    "\n",
    "#### Descrição\n",
    "\n",
    "https://www.kaggle.com/uciml/german-credit\n",
    "\n",
    "Context\n",
    "\n",
    "The original dataset contains 1000 entries with 20 categorial/symbolic attributes prepared by Prof. Hofmann. In this dataset, each entry represents a person who takes a credit by a bank. Each person is classified as good or bad credit risks according to the set of attributes. The link to the original dataset can be found below.\n",
    "\n",
    "Content\n",
    "\n",
    "It is almost impossible to understand the original dataset due to its complicated system of categories and symbols. Thus, I wrote a small Python script to convert it into a readable CSV file. Several columns are simply ignored, because in my opinion either they are not important or their descriptions are obscure. The selected attributes are:\n",
    "\n",
    "- Age (numeric)\n",
    "- Sex (text: male, female)\n",
    "- Job (numeric: 0 - unskilled and non-resident, 1 - unskilled and resident, 2 - skilled, 3 - highly skilled)\n",
    "- Housing (text: own, rent, or free)\n",
    "- Saving accounts (text - little, moderate, quite rich, rich)\n",
    "- Checking account (numeric, in DM - Deutsch Mark)\n",
    "- Credit amount (numeric, in DM)\n",
    "- Duration (numeric, in month)\n",
    "- Purpose (text: car, furniture/equipment, radio/TV, domestic appliances, repairs, education, business, vacation/others)"
   ]
  },
  {
   "cell_type": "code",
   "execution_count": 48,
   "id": "9df27821",
   "metadata": {},
   "outputs": [],
   "source": [
    "import pandas as pd\n",
    "import numpy as np\n",
    "from sklearn.tree import DecisionTreeClassifier\n",
    "from sklearn.model_selection import train_test_split, GridSearchCV\n",
    "from sklearn.metrics import classification_report, make_scorer, precision_score, accuracy_score\n",
    "import matplotlib.pyplot as plt"
   ]
  },
  {
   "cell_type": "code",
   "execution_count": 2,
   "id": "3bc91bde",
   "metadata": {},
   "outputs": [
    {
     "name": "stdout",
     "output_type": "stream",
     "text": [
      "<class 'pandas.core.frame.DataFrame'>\n",
      "RangeIndex: 1000 entries, 0 to 999\n",
      "Data columns (total 10 columns):\n",
      " #   Column            Non-Null Count  Dtype \n",
      "---  ------            --------------  ----- \n",
      " 0   Age               1000 non-null   int64 \n",
      " 1   Sex               1000 non-null   object\n",
      " 2   Job               1000 non-null   int64 \n",
      " 3   Housing           1000 non-null   object\n",
      " 4   Saving accounts   817 non-null    object\n",
      " 5   Checking account  606 non-null    object\n",
      " 6   Credit amount     1000 non-null   int64 \n",
      " 7   Duration          1000 non-null   int64 \n",
      " 8   Purpose           1000 non-null   object\n",
      " 9   Risk              1000 non-null   object\n",
      "dtypes: int64(4), object(6)\n",
      "memory usage: 78.3+ KB\n"
     ]
    }
   ],
   "source": [
    "df = pd.read_csv('class_german_credit.csv')\n",
    "df.info()"
   ]
  },
  {
   "cell_type": "markdown",
   "id": "24298352",
   "metadata": {},
   "source": [
    "Como uma breve interpretação desse resumo dos dados, já podemos ver que há valores faltantes (*missing*) para os atributos `Saving accounts` e `Checking account`.\n",
    "\n",
    "Além disso, na descrição dada por `dataset_description.txt`, o atributo `Checking account` é dito como numérico, mas acima é dito como `object`, não um tipo numérico como era de se esperar.\n",
    "\n",
    "Para obter mais informações relevantes acerca dos dado, irei realizar uma análise exploratória sobre cada atributo individualmente."
   ]
  },
  {
   "cell_type": "markdown",
   "id": "f8f5d2b9",
   "metadata": {},
   "source": [
    "### Age"
   ]
  },
  {
   "cell_type": "markdown",
   "id": "e4afab86",
   "metadata": {},
   "source": [
    "Pela descrição em `dataset_description.txt` e no resumo do dataframe, podemos ver que é um dado numérico/quantitativo. Agora irei explorar para obter mais informações desse atributo."
   ]
  },
  {
   "cell_type": "code",
   "execution_count": 3,
   "id": "d8d2cb81",
   "metadata": {},
   "outputs": [
    {
     "name": "stdout",
     "output_type": "stream",
     "text": [
      "--------- descrição estatística ---------\n",
      "count    1000.000000\n",
      "mean       35.546000\n",
      "std        11.375469\n",
      "min        19.000000\n",
      "25%        27.000000\n",
      "50%        33.000000\n",
      "75%        42.000000\n",
      "max        75.000000\n",
      "Name: Age, dtype: float64\n",
      "\n",
      "--------- valores faltantes ---------\n",
      "Empty DataFrame\n",
      "Columns: [Age, Sex, Job, Housing, Saving accounts, Checking account, Credit amount, Duration, Purpose, Risk]\n",
      "Index: []\n"
     ]
    }
   ],
   "source": [
    "print('--------- descrição estatística ---------')\n",
    "print(df['Age'].describe())\n",
    "\n",
    "print('\\n--------- valores faltantes ---------')\n",
    "print(df[df['Age'].isnull()])"
   ]
  },
  {
   "cell_type": "markdown",
   "id": "8bc8cdba",
   "metadata": {},
   "source": [
    "Como pode ser observado acima, o atributo `Age` se classifica como **quantitativo discreto** e seu nível (escala) de mensuração é **racional**.\n",
    "\n",
    "Além disso, claramente não há valores faltantes (*missing*) por terem $1000$ valores dentre $1000$ registros e nenhum deles ser nulo.\n",
    "\n",
    "Podemos perceber também que não há valores discrepantes (*outliers*) por seus valores mínimo e máximo serem, respectivamente, $19$ e $75$."
   ]
  },
  {
   "cell_type": "markdown",
   "id": "17818a59",
   "metadata": {},
   "source": [
    "### Sex"
   ]
  },
  {
   "cell_type": "markdown",
   "id": "bc5515c7",
   "metadata": {},
   "source": [
    "Pela descrição em `dataset_description.txt` e no resumo do dataframe, podemos ver que é um dado do tipo texto e que assume apenas dois valores `male` (*masculino*) e `female` (*feminino*)."
   ]
  },
  {
   "cell_type": "code",
   "execution_count": 4,
   "id": "e2504498",
   "metadata": {},
   "outputs": [
    {
     "data": {
      "text/plain": [
       "Sex\n",
       "female    310\n",
       "male      690\n",
       "Name: count, dtype: int64"
      ]
     },
     "execution_count": 4,
     "metadata": {},
     "output_type": "execute_result"
    }
   ],
   "source": [
    "df['Sex'].value_counts(dropna=False).sort_index()"
   ]
  },
  {
   "cell_type": "markdown",
   "id": "b8fd45f0",
   "metadata": {},
   "source": [
    "Como observado acima, o atributo, de fato, assume os dois valores (ou categorias) mencionados anteriormente, com isso se classifica como **quantitativa nominal**.\n",
    "\n",
    "Além disso, somando as frequências temos $1000$ valores aparecendo nesse atributo sendo que nenhum deles é nulo, então não há valores faltantes (*missing*)."
   ]
  },
  {
   "cell_type": "markdown",
   "id": "ca69958c",
   "metadata": {},
   "source": [
    "### Job"
   ]
  },
  {
   "cell_type": "markdown",
   "id": "1beb1c87",
   "metadata": {},
   "source": [
    "Pela descrição em `dataset_description.txt` e no resumo do dataframe, podemos ver que é um dado do tipo categórico, apesar de ser representado de forma numérica."
   ]
  },
  {
   "cell_type": "code",
   "execution_count": 5,
   "id": "1a90d251",
   "metadata": {},
   "outputs": [
    {
     "data": {
      "text/plain": [
       "Job\n",
       "0     22\n",
       "1    200\n",
       "2    630\n",
       "3    148\n",
       "Name: count, dtype: int64"
      ]
     },
     "execution_count": 5,
     "metadata": {},
     "output_type": "execute_result"
    }
   ],
   "source": [
    "df['Job'].value_counts(dropna=False).sort_index()"
   ]
  },
  {
   "cell_type": "markdown",
   "id": "2aca005b",
   "metadata": {},
   "source": [
    "Não é possível identificar muito bem as frequências sem consultar o mapeamento em `dataset_description.txt`. Para facilitar a leitura irei fazer o mapeamento direto na contagem de valores.\n",
    "\n",
    "Mas antes disso, já é possível dizer que se trata de um dado **qualitativo ordinal** e que não há valores faltantes."
   ]
  },
  {
   "cell_type": "code",
   "execution_count": 6,
   "id": "337c5030",
   "metadata": {},
   "outputs": [
    {
     "data": {
      "text/plain": [
       "Job\n",
       "Unskilled and non-resident     22\n",
       "Unskilled and resident        200\n",
       "Skilled                       630\n",
       "Highly skilled                148\n",
       "Name: count, dtype: int64"
      ]
     },
     "execution_count": 6,
     "metadata": {},
     "output_type": "execute_result"
    }
   ],
   "source": [
    "job_titles = {\n",
    "    0: 'Unskilled and non-resident',\n",
    "    1: 'Unskilled and resident',\n",
    "    2: 'Skilled',\n",
    "    3: 'Highly skilled'\n",
    "}\n",
    "job_counts = df['Job'].value_counts().sort_index()\n",
    "job_counts.index = job_counts.index.map(job_titles)\n",
    "job_counts"
   ]
  },
  {
   "cell_type": "markdown",
   "id": "bcb7c871",
   "metadata": {},
   "source": [
    "> Dúvida para investigar: para árvore de decisão, esse campo deverá/poderá permanecer numérico ou deverá ser textual?\n",
    "\n",
    "> R.: Por essa variável ser ordinal e seus valores estarem adequados com as categorias, i.e., 0 representa o menos qualidicado e 3, o mais qualificado (segue a ordem do menor para o maior), o modelo conseguirá interpretá-la da maneira correta. O problema seria se fosse nominal. O modelo poderia entender que existe uma ordem e certa distância entre as categorias por serem números."
   ]
  },
  {
   "cell_type": "markdown",
   "id": "41e9aabb",
   "metadata": {},
   "source": [
    "### Housing"
   ]
  },
  {
   "cell_type": "markdown",
   "id": "afd9d6b2",
   "metadata": {},
   "source": [
    "Pela descrição em `dataset_description.txt` e no resumo do dataframe, podemos ver que é um dado do tipo categórico."
   ]
  },
  {
   "cell_type": "code",
   "execution_count": 7,
   "id": "9debf957",
   "metadata": {},
   "outputs": [
    {
     "data": {
      "text/plain": [
       "Housing\n",
       "free    108\n",
       "own     713\n",
       "rent    179\n",
       "Name: count, dtype: int64"
      ]
     },
     "execution_count": 7,
     "metadata": {},
     "output_type": "execute_result"
    }
   ],
   "source": [
    "df['Housing'].value_counts(dropna=False).sort_index()"
   ]
  },
  {
   "cell_type": "markdown",
   "id": "052f24a4",
   "metadata": {},
   "source": [
    "Pode-se ver que é um atributo do tipo **qualitativo nominal** e que não há valores faltantes, pois a soma das frequências acima é $1000$."
   ]
  },
  {
   "cell_type": "markdown",
   "id": "eeec2d90",
   "metadata": {},
   "source": [
    "### Saving account"
   ]
  },
  {
   "cell_type": "markdown",
   "id": "c493a079",
   "metadata": {},
   "source": [
    "Pela descrição em `dataset_description.txt` e no resumo do dataframe, podemos ver que é um dado do tipo texto."
   ]
  },
  {
   "cell_type": "code",
   "execution_count": 8,
   "id": "85dc1c41",
   "metadata": {},
   "outputs": [
    {
     "data": {
      "text/plain": [
       "Saving accounts\n",
       "little        603\n",
       "moderate      103\n",
       "quite rich     63\n",
       "rich           48\n",
       "NaN           183\n",
       "Name: count, dtype: int64"
      ]
     },
     "execution_count": 8,
     "metadata": {},
     "output_type": "execute_result"
    }
   ],
   "source": [
    "df['Saving accounts'].value_counts(dropna=False).sort_index()"
   ]
  },
  {
   "cell_type": "markdown",
   "id": "21a32a04",
   "metadata": {},
   "source": [
    "Temos um atributo do tipo **qualitativo ordinal** e que apresenta valores faltantes, 183 registros não apresentam valor para este atributo."
   ]
  },
  {
   "cell_type": "markdown",
   "id": "66351f92",
   "metadata": {},
   "source": [
    "### Checking Account"
   ]
  },
  {
   "cell_type": "markdown",
   "id": "111cf953",
   "metadata": {},
   "source": [
    "Como mencionado anteriormente, esse campo é dito como numérico em `dataset_description.txt`, mas no resumo do dataframe é dito como `object`. Irei investigar seus possíveis valores para entender melhor como esse atributo se classifica de fato."
   ]
  },
  {
   "cell_type": "code",
   "execution_count": 9,
   "id": "afa7e43b",
   "metadata": {},
   "outputs": [
    {
     "data": {
      "text/plain": [
       "Checking account\n",
       "little      274\n",
       "moderate    269\n",
       "rich         63\n",
       "NaN         394\n",
       "Name: count, dtype: int64"
      ]
     },
     "execution_count": 9,
     "metadata": {},
     "output_type": "execute_result"
    }
   ],
   "source": [
    "df['Checking account'].value_counts(dropna=False).sort_index()"
   ]
  },
  {
   "cell_type": "markdown",
   "id": "d926f725",
   "metadata": {},
   "source": [
    "Observando seus valores, podemos ver que é classificado como **qualitativo ordinal** e que há 394 valores faltantes."
   ]
  },
  {
   "cell_type": "markdown",
   "id": "64277cef",
   "metadata": {},
   "source": [
    "### Credit Amount"
   ]
  },
  {
   "cell_type": "markdown",
   "id": "8c51889e",
   "metadata": {},
   "source": [
    "Pela descrição em `dataset_description.txt` e no resumo do dataframe, podemos ver que é um dado do tipo numérico."
   ]
  },
  {
   "cell_type": "code",
   "execution_count": 10,
   "id": "a5b338db",
   "metadata": {},
   "outputs": [
    {
     "name": "stdout",
     "output_type": "stream",
     "text": [
      "\n",
      "--------- descrição estatística ---------\n",
      "count     1000.000000\n",
      "mean      3271.258000\n",
      "std       2822.736876\n",
      "min        250.000000\n",
      "25%       1365.500000\n",
      "50%       2319.500000\n",
      "75%       3972.250000\n",
      "max      18424.000000\n",
      "Name: Credit amount, dtype: float64\n",
      "\n",
      "--------- valores faltantes ---------\n",
      "Empty DataFrame\n",
      "Columns: [Age, Sex, Job, Housing, Saving accounts, Checking account, Credit amount, Duration, Purpose, Risk]\n",
      "Index: []\n"
     ]
    }
   ],
   "source": [
    "print('\\n--------- descrição estatística ---------')\n",
    "print(df['Credit amount'].describe())\n",
    "print('\\n--------- valores faltantes ---------')\n",
    "print(df[df['Credit amount'].isnull()])"
   ]
  },
  {
   "cell_type": "markdown",
   "id": "6c00bc41",
   "metadata": {},
   "source": [
    "E pelo resumo acima pode-se ver que esse atributo é **quantitativo racional** e não tem valores faltantes."
   ]
  },
  {
   "cell_type": "markdown",
   "id": "35845857",
   "metadata": {},
   "source": [
    "### Duration"
   ]
  },
  {
   "cell_type": "markdown",
   "id": "78d4b174",
   "metadata": {},
   "source": [
    "Pela descrição em `dataset_description.txt` e no resumo do dataframe, podemos ver que é um dado do tipo numérico."
   ]
  },
  {
   "cell_type": "code",
   "execution_count": 11,
   "id": "67632a27",
   "metadata": {},
   "outputs": [
    {
     "name": "stdout",
     "output_type": "stream",
     "text": [
      "\n",
      "--------- descrição estatística ---------\n",
      "count    1000.000000\n",
      "mean       20.903000\n",
      "std        12.058814\n",
      "min         4.000000\n",
      "25%        12.000000\n",
      "50%        18.000000\n",
      "75%        24.000000\n",
      "max        72.000000\n",
      "Name: Duration, dtype: float64\n",
      "\n",
      "--------- valores faltantes ---------\n",
      "Empty DataFrame\n",
      "Columns: [Age, Sex, Job, Housing, Saving accounts, Checking account, Credit amount, Duration, Purpose, Risk]\n",
      "Index: []\n"
     ]
    }
   ],
   "source": [
    "print('\\n--------- descrição estatística ---------')\n",
    "print(df['Duration'].describe())\n",
    "print('\\n--------- valores faltantes ---------')\n",
    "print(df[df['Duration'].isnull()])"
   ]
  },
  {
   "cell_type": "markdown",
   "id": "7d76fb95",
   "metadata": {},
   "source": [
    "E pelo resumo acima pode-se ver que esse atributo é **quantitativo racional** e não tem valores faltantes."
   ]
  },
  {
   "cell_type": "markdown",
   "id": "945156b0",
   "metadata": {},
   "source": [
    "### Purpose"
   ]
  },
  {
   "cell_type": "markdown",
   "id": "b22306be",
   "metadata": {},
   "source": [
    "Pela descrição em `dataset_description.txt` e no resumo do dataframe, podemos ver que é um dado do tipo textual."
   ]
  },
  {
   "cell_type": "code",
   "execution_count": 12,
   "id": "379c2090",
   "metadata": {},
   "outputs": [
    {
     "data": {
      "text/plain": [
       "Purpose\n",
       "business                97\n",
       "car                    337\n",
       "domestic appliances     12\n",
       "education               59\n",
       "furniture/equipment    181\n",
       "radio/TV               280\n",
       "repairs                 22\n",
       "vacation/others         12\n",
       "Name: count, dtype: int64"
      ]
     },
     "execution_count": 12,
     "metadata": {},
     "output_type": "execute_result"
    }
   ],
   "source": [
    "df['Purpose'].value_counts(dropna=False).sort_index()"
   ]
  },
  {
   "cell_type": "markdown",
   "id": "c195fcfa",
   "metadata": {},
   "source": [
    "Pode-se ver que se classifica como **qualitativo nominal** e não há valores faltantes."
   ]
  },
  {
   "cell_type": "markdown",
   "id": "ef408d3d",
   "metadata": {},
   "source": [
    "### Risk"
   ]
  },
  {
   "cell_type": "markdown",
   "id": "068b2bfb",
   "metadata": {},
   "source": [
    "Por último, iremos avaliar a coluna que contém a informação que queremos que nosso modelo aprenda a inferir. Que diz se uma pessoa é boa (good) ou ruim (bad) com relação ao risco de crédito."
   ]
  },
  {
   "cell_type": "code",
   "execution_count": 13,
   "id": "1238150a",
   "metadata": {},
   "outputs": [
    {
     "data": {
      "text/plain": [
       "Risk\n",
       "bad     300\n",
       "good    700\n",
       "Name: count, dtype: int64"
      ]
     },
     "execution_count": 13,
     "metadata": {},
     "output_type": "execute_result"
    }
   ],
   "source": [
    "df['Risk'].value_counts(dropna=False).sort_index()"
   ]
  },
  {
   "cell_type": "markdown",
   "id": "51df001e",
   "metadata": {},
   "source": [
    "Percebemos que é **qualitativa ordinal**, uma variável binária, que não tem valores faltantes, mas que está desbalanceada. Isso é um detalhe a ser considerado na hora de treinar o modelo."
   ]
  },
  {
   "cell_type": "markdown",
   "id": "854ca7c2",
   "metadata": {},
   "source": [
    "### Resumo"
   ]
  },
  {
   "cell_type": "markdown",
   "id": "5162ef66",
   "metadata": {},
   "source": [
    "Segue abaixo um resumo dos atributos."
   ]
  },
  {
   "cell_type": "code",
   "execution_count": 16,
   "id": "5739de4e",
   "metadata": {},
   "outputs": [
    {
     "data": {
      "text/html": [
       "<div>\n",
       "<style scoped>\n",
       "    .dataframe tbody tr th:only-of-type {\n",
       "        vertical-align: middle;\n",
       "    }\n",
       "\n",
       "    .dataframe tbody tr th {\n",
       "        vertical-align: top;\n",
       "    }\n",
       "\n",
       "    .dataframe thead th {\n",
       "        text-align: right;\n",
       "    }\n",
       "</style>\n",
       "<table border=\"1\" class=\"dataframe\">\n",
       "  <thead>\n",
       "    <tr style=\"text-align: right;\">\n",
       "      <th></th>\n",
       "      <th>atributo</th>\n",
       "      <th>tipo</th>\n",
       "      <th>valores faltantes</th>\n",
       "      <th>outliers</th>\n",
       "      <th>cardinalidade</th>\n",
       "    </tr>\n",
       "  </thead>\n",
       "  <tbody>\n",
       "    <tr>\n",
       "      <th>0</th>\n",
       "      <td>Age</td>\n",
       "      <td>quantitativo racional</td>\n",
       "      <td>0</td>\n",
       "      <td>não</td>\n",
       "      <td>discreta</td>\n",
       "    </tr>\n",
       "    <tr>\n",
       "      <th>1</th>\n",
       "      <td>Sex</td>\n",
       "      <td>qualitativa nominal</td>\n",
       "      <td>0</td>\n",
       "      <td>n/a</td>\n",
       "      <td>discreta (binária)</td>\n",
       "    </tr>\n",
       "    <tr>\n",
       "      <th>2</th>\n",
       "      <td>Job</td>\n",
       "      <td>qualitativa ordinal</td>\n",
       "      <td>0</td>\n",
       "      <td>n/a</td>\n",
       "      <td>discreta</td>\n",
       "    </tr>\n",
       "    <tr>\n",
       "      <th>3</th>\n",
       "      <td>Housing</td>\n",
       "      <td>qualitativa nominal</td>\n",
       "      <td>0</td>\n",
       "      <td>n/a</td>\n",
       "      <td>discreta</td>\n",
       "    </tr>\n",
       "    <tr>\n",
       "      <th>4</th>\n",
       "      <td>Saving accounts</td>\n",
       "      <td>qualitativa ordinal</td>\n",
       "      <td>183</td>\n",
       "      <td>n/a</td>\n",
       "      <td>discreta</td>\n",
       "    </tr>\n",
       "    <tr>\n",
       "      <th>5</th>\n",
       "      <td>Checking account</td>\n",
       "      <td>qualitativa ordinal</td>\n",
       "      <td>394</td>\n",
       "      <td>n/a</td>\n",
       "      <td>discreta</td>\n",
       "    </tr>\n",
       "    <tr>\n",
       "      <th>6</th>\n",
       "      <td>Credit amount</td>\n",
       "      <td>quantitativo racional</td>\n",
       "      <td>0</td>\n",
       "      <td>não</td>\n",
       "      <td>contínua</td>\n",
       "    </tr>\n",
       "    <tr>\n",
       "      <th>7</th>\n",
       "      <td>Duration</td>\n",
       "      <td>quantitativo racional</td>\n",
       "      <td>0</td>\n",
       "      <td>não</td>\n",
       "      <td>discreta</td>\n",
       "    </tr>\n",
       "    <tr>\n",
       "      <th>8</th>\n",
       "      <td>Purpose</td>\n",
       "      <td>qualitativa nominal</td>\n",
       "      <td>0</td>\n",
       "      <td>n/a</td>\n",
       "      <td>discreta</td>\n",
       "    </tr>\n",
       "    <tr>\n",
       "      <th>9</th>\n",
       "      <td>Risk</td>\n",
       "      <td>qualitativa nominal</td>\n",
       "      <td>0</td>\n",
       "      <td>n/a</td>\n",
       "      <td>discreta (binária)</td>\n",
       "    </tr>\n",
       "  </tbody>\n",
       "</table>\n",
       "</div>"
      ],
      "text/plain": [
       "           atributo                   tipo  valores faltantes outliers  \\\n",
       "0               Age  quantitativo racional                  0      não   \n",
       "1               Sex    qualitativa nominal                  0      n/a   \n",
       "2               Job    qualitativa ordinal                  0      n/a   \n",
       "3           Housing    qualitativa nominal                  0      n/a   \n",
       "4   Saving accounts    qualitativa ordinal                183      n/a   \n",
       "5  Checking account    qualitativa ordinal                394      n/a   \n",
       "6     Credit amount  quantitativo racional                  0      não   \n",
       "7          Duration  quantitativo racional                  0      não   \n",
       "8           Purpose    qualitativa nominal                  0      n/a   \n",
       "9              Risk    qualitativa nominal                  0      n/a   \n",
       "\n",
       "        cardinalidade  \n",
       "0            discreta  \n",
       "1  discreta (binária)  \n",
       "2            discreta  \n",
       "3            discreta  \n",
       "4            discreta  \n",
       "5            discreta  \n",
       "6            contínua  \n",
       "7            discreta  \n",
       "8            discreta  \n",
       "9  discreta (binária)  "
      ]
     },
     "execution_count": 16,
     "metadata": {},
     "output_type": "execute_result"
    }
   ],
   "source": [
    "resumo_df = pd.DataFrame({\n",
    "    'atributo': ['Age', 'Sex', 'Job', 'Housing', 'Saving accounts',\n",
    "                 'Checking account', 'Credit amount', 'Duration', 'Purpose', 'Risk'],\n",
    "    'tipo': ['quantitativo racional', 'qualitativa nominal', 'qualitativa ordinal',\n",
    "             'qualitativa nominal', 'qualitativa ordinal', 'qualitativa ordinal',\n",
    "             'quantitativo racional', 'quantitativo racional', 'qualitativa nominal', 'qualitativa nominal'],\n",
    "    'valores faltantes': [0, 0, 0, 0, 183, 394, 0, 0, 0, 0],\n",
    "    'outliers': ['não', 'n/a', 'n/a', 'n/a', 'n/a', 'n/a', 'não', 'não', 'n/a', 'n/a'],\n",
    "    'cardinalidade': ['discreta', 'discreta (binária)', 'discreta', 'discreta',\n",
    "                      'discreta', 'discreta', 'contínua', 'discreta', 'discreta', 'discreta (binária)']\n",
    "})\n",
    "resumo_df"
   ]
  },
  {
   "cell_type": "markdown",
   "id": "31a09a88",
   "metadata": {},
   "source": [
    "## Avaliação da Árvore de Decisão"
   ]
  },
  {
   "cell_type": "markdown",
   "id": "08817107",
   "metadata": {},
   "source": [
    "## Definindo as funções a serem utilizadas"
   ]
  },
  {
   "cell_type": "markdown",
   "id": "f8ac9324",
   "metadata": {},
   "source": [
    "### Treinar uma árvore de decisão"
   ]
  },
  {
   "cell_type": "code",
   "execution_count": 49,
   "id": "0b60765a",
   "metadata": {},
   "outputs": [],
   "source": [
    "def trained_model(X_train, y_train):\n",
    "    param_grid = {\n",
    "        'max_depth': [2, 4, 8, 16, 32, 64, None],\n",
    "        'min_samples_split': [2, 4, 8, 16, 32, 64],\n",
    "        'min_samples_leaf': [1, 2, 4, 8, 16, 32, 64]\n",
    "    }\n",
    "\n",
    "    # precision_scorer = make_scorer(precision_score, pos_label='good')\n",
    "    accuracy_scorer = make_scorer(accuracy_score)\n",
    "\n",
    "    grid_search = GridSearchCV(\n",
    "        DecisionTreeClassifier(random_state=42),\n",
    "        param_grid,\n",
    "        cv=5,  # 5-fold cross-validation\n",
    "        scoring=accuracy_scorer,\n",
    "        n_jobs=-1\n",
    "    )\n",
    "\n",
    "    grid_search.fit(X_train, y_train)\n",
    "\n",
    "    print(\"Melhores hiperparâmetros:\", grid_search.best_params_)\n",
    "    return grid_search.best_estimator_\n",
    "\n",
    "def predict_and_evaluate(model, X_test, y_test):\n",
    "    # Avaliação no conjunto de teste\n",
    "    y_pred = model.predict(X_test)\n",
    "    print(\"Relatório:\\n\", classification_report(y_test, y_pred))\n"
   ]
  },
  {
   "cell_type": "markdown",
   "id": "2be434eb",
   "metadata": {},
   "source": [
    "### Preparação mínima"
   ]
  },
  {
   "cell_type": "markdown",
   "id": "ae0c8c7f",
   "metadata": {},
   "source": [
    "A àrvore de decisão exige uma preparação mínima dos atributos qualitativos. Os mesmo não podem ser textuais, devem ter uma representação numérica ou passível de conversão em tipo numérico. Farei essa preparação abaixo."
   ]
  },
  {
   "cell_type": "code",
   "execution_count": 18,
   "id": "1ca0243c",
   "metadata": {},
   "outputs": [
    {
     "data": {
      "text/html": [
       "<div>\n",
       "<style scoped>\n",
       "    .dataframe tbody tr th:only-of-type {\n",
       "        vertical-align: middle;\n",
       "    }\n",
       "\n",
       "    .dataframe tbody tr th {\n",
       "        vertical-align: top;\n",
       "    }\n",
       "\n",
       "    .dataframe thead th {\n",
       "        text-align: right;\n",
       "    }\n",
       "</style>\n",
       "<table border=\"1\" class=\"dataframe\">\n",
       "  <thead>\n",
       "    <tr style=\"text-align: right;\">\n",
       "      <th></th>\n",
       "      <th>atributo</th>\n",
       "      <th>tipo</th>\n",
       "      <th>valores faltantes</th>\n",
       "      <th>outliers</th>\n",
       "      <th>cardinalidade</th>\n",
       "    </tr>\n",
       "  </thead>\n",
       "  <tbody>\n",
       "    <tr>\n",
       "      <th>1</th>\n",
       "      <td>Sex</td>\n",
       "      <td>qualitativa nominal</td>\n",
       "      <td>0</td>\n",
       "      <td>n/a</td>\n",
       "      <td>discreta (binária)</td>\n",
       "    </tr>\n",
       "    <tr>\n",
       "      <th>2</th>\n",
       "      <td>Job</td>\n",
       "      <td>qualitativa ordinal</td>\n",
       "      <td>0</td>\n",
       "      <td>n/a</td>\n",
       "      <td>discreta</td>\n",
       "    </tr>\n",
       "    <tr>\n",
       "      <th>3</th>\n",
       "      <td>Housing</td>\n",
       "      <td>qualitativa nominal</td>\n",
       "      <td>0</td>\n",
       "      <td>n/a</td>\n",
       "      <td>discreta</td>\n",
       "    </tr>\n",
       "    <tr>\n",
       "      <th>4</th>\n",
       "      <td>Saving accounts</td>\n",
       "      <td>qualitativa ordinal</td>\n",
       "      <td>183</td>\n",
       "      <td>n/a</td>\n",
       "      <td>discreta</td>\n",
       "    </tr>\n",
       "    <tr>\n",
       "      <th>5</th>\n",
       "      <td>Checking account</td>\n",
       "      <td>qualitativa ordinal</td>\n",
       "      <td>394</td>\n",
       "      <td>n/a</td>\n",
       "      <td>discreta</td>\n",
       "    </tr>\n",
       "    <tr>\n",
       "      <th>8</th>\n",
       "      <td>Purpose</td>\n",
       "      <td>qualitativa nominal</td>\n",
       "      <td>0</td>\n",
       "      <td>n/a</td>\n",
       "      <td>discreta</td>\n",
       "    </tr>\n",
       "    <tr>\n",
       "      <th>9</th>\n",
       "      <td>Risk</td>\n",
       "      <td>qualitativa nominal</td>\n",
       "      <td>0</td>\n",
       "      <td>n/a</td>\n",
       "      <td>discreta (binária)</td>\n",
       "    </tr>\n",
       "  </tbody>\n",
       "</table>\n",
       "</div>"
      ],
      "text/plain": [
       "           atributo                 tipo  valores faltantes outliers  \\\n",
       "1               Sex  qualitativa nominal                  0      n/a   \n",
       "2               Job  qualitativa ordinal                  0      n/a   \n",
       "3           Housing  qualitativa nominal                  0      n/a   \n",
       "4   Saving accounts  qualitativa ordinal                183      n/a   \n",
       "5  Checking account  qualitativa ordinal                394      n/a   \n",
       "8           Purpose  qualitativa nominal                  0      n/a   \n",
       "9              Risk  qualitativa nominal                  0      n/a   \n",
       "\n",
       "        cardinalidade  \n",
       "1  discreta (binária)  \n",
       "2            discreta  \n",
       "3            discreta  \n",
       "4            discreta  \n",
       "5            discreta  \n",
       "8            discreta  \n",
       "9  discreta (binária)  "
      ]
     },
     "execution_count": 18,
     "metadata": {},
     "output_type": "execute_result"
    }
   ],
   "source": [
    "resumo_df[resumo_df['tipo'].str.contains('qualitativa')]"
   ]
  },
  {
   "cell_type": "code",
   "execution_count": 56,
   "id": "b5430d29",
   "metadata": {},
   "outputs": [
    {
     "data": {
      "text/html": [
       "<div>\n",
       "<style scoped>\n",
       "    .dataframe tbody tr th:only-of-type {\n",
       "        vertical-align: middle;\n",
       "    }\n",
       "\n",
       "    .dataframe tbody tr th {\n",
       "        vertical-align: top;\n",
       "    }\n",
       "\n",
       "    .dataframe thead th {\n",
       "        text-align: right;\n",
       "    }\n",
       "</style>\n",
       "<table border=\"1\" class=\"dataframe\">\n",
       "  <thead>\n",
       "    <tr style=\"text-align: right;\">\n",
       "      <th></th>\n",
       "      <th>Age</th>\n",
       "      <th>Sex</th>\n",
       "      <th>Job</th>\n",
       "      <th>Saving accounts</th>\n",
       "      <th>Checking account</th>\n",
       "      <th>Credit amount</th>\n",
       "      <th>Duration</th>\n",
       "      <th>Risk</th>\n",
       "      <th>free</th>\n",
       "      <th>own</th>\n",
       "      <th>rent</th>\n",
       "      <th>business</th>\n",
       "      <th>car</th>\n",
       "      <th>domestic appliances</th>\n",
       "      <th>education</th>\n",
       "      <th>furniture/equipment</th>\n",
       "      <th>radio/TV</th>\n",
       "      <th>repairs</th>\n",
       "      <th>vacation/others</th>\n",
       "    </tr>\n",
       "  </thead>\n",
       "  <tbody>\n",
       "    <tr>\n",
       "      <th>1</th>\n",
       "      <td>22</td>\n",
       "      <td>True</td>\n",
       "      <td>2</td>\n",
       "      <td>0</td>\n",
       "      <td>1</td>\n",
       "      <td>5951</td>\n",
       "      <td>48</td>\n",
       "      <td>bad</td>\n",
       "      <td>False</td>\n",
       "      <td>True</td>\n",
       "      <td>False</td>\n",
       "      <td>False</td>\n",
       "      <td>False</td>\n",
       "      <td>False</td>\n",
       "      <td>False</td>\n",
       "      <td>False</td>\n",
       "      <td>True</td>\n",
       "      <td>False</td>\n",
       "      <td>False</td>\n",
       "    </tr>\n",
       "    <tr>\n",
       "      <th>4</th>\n",
       "      <td>53</td>\n",
       "      <td>False</td>\n",
       "      <td>2</td>\n",
       "      <td>0</td>\n",
       "      <td>0</td>\n",
       "      <td>4870</td>\n",
       "      <td>24</td>\n",
       "      <td>bad</td>\n",
       "      <td>True</td>\n",
       "      <td>False</td>\n",
       "      <td>False</td>\n",
       "      <td>False</td>\n",
       "      <td>True</td>\n",
       "      <td>False</td>\n",
       "      <td>False</td>\n",
       "      <td>False</td>\n",
       "      <td>False</td>\n",
       "      <td>False</td>\n",
       "      <td>False</td>\n",
       "    </tr>\n",
       "    <tr>\n",
       "      <th>9</th>\n",
       "      <td>28</td>\n",
       "      <td>False</td>\n",
       "      <td>3</td>\n",
       "      <td>0</td>\n",
       "      <td>1</td>\n",
       "      <td>5234</td>\n",
       "      <td>30</td>\n",
       "      <td>bad</td>\n",
       "      <td>False</td>\n",
       "      <td>True</td>\n",
       "      <td>False</td>\n",
       "      <td>False</td>\n",
       "      <td>True</td>\n",
       "      <td>False</td>\n",
       "      <td>False</td>\n",
       "      <td>False</td>\n",
       "      <td>False</td>\n",
       "      <td>False</td>\n",
       "      <td>False</td>\n",
       "    </tr>\n",
       "    <tr>\n",
       "      <th>10</th>\n",
       "      <td>25</td>\n",
       "      <td>True</td>\n",
       "      <td>2</td>\n",
       "      <td>0</td>\n",
       "      <td>1</td>\n",
       "      <td>1295</td>\n",
       "      <td>12</td>\n",
       "      <td>bad</td>\n",
       "      <td>False</td>\n",
       "      <td>False</td>\n",
       "      <td>True</td>\n",
       "      <td>False</td>\n",
       "      <td>True</td>\n",
       "      <td>False</td>\n",
       "      <td>False</td>\n",
       "      <td>False</td>\n",
       "      <td>False</td>\n",
       "      <td>False</td>\n",
       "      <td>False</td>\n",
       "    </tr>\n",
       "    <tr>\n",
       "      <th>11</th>\n",
       "      <td>24</td>\n",
       "      <td>True</td>\n",
       "      <td>2</td>\n",
       "      <td>0</td>\n",
       "      <td>0</td>\n",
       "      <td>4308</td>\n",
       "      <td>48</td>\n",
       "      <td>bad</td>\n",
       "      <td>False</td>\n",
       "      <td>False</td>\n",
       "      <td>True</td>\n",
       "      <td>True</td>\n",
       "      <td>False</td>\n",
       "      <td>False</td>\n",
       "      <td>False</td>\n",
       "      <td>False</td>\n",
       "      <td>False</td>\n",
       "      <td>False</td>\n",
       "      <td>False</td>\n",
       "    </tr>\n",
       "    <tr>\n",
       "      <th>...</th>\n",
       "      <td>...</td>\n",
       "      <td>...</td>\n",
       "      <td>...</td>\n",
       "      <td>...</td>\n",
       "      <td>...</td>\n",
       "      <td>...</td>\n",
       "      <td>...</td>\n",
       "      <td>...</td>\n",
       "      <td>...</td>\n",
       "      <td>...</td>\n",
       "      <td>...</td>\n",
       "      <td>...</td>\n",
       "      <td>...</td>\n",
       "      <td>...</td>\n",
       "      <td>...</td>\n",
       "      <td>...</td>\n",
       "      <td>...</td>\n",
       "      <td>...</td>\n",
       "      <td>...</td>\n",
       "    </tr>\n",
       "    <tr>\n",
       "      <th>979</th>\n",
       "      <td>25</td>\n",
       "      <td>False</td>\n",
       "      <td>2</td>\n",
       "      <td>1</td>\n",
       "      <td>1</td>\n",
       "      <td>1264</td>\n",
       "      <td>15</td>\n",
       "      <td>bad</td>\n",
       "      <td>False</td>\n",
       "      <td>False</td>\n",
       "      <td>True</td>\n",
       "      <td>False</td>\n",
       "      <td>True</td>\n",
       "      <td>False</td>\n",
       "      <td>False</td>\n",
       "      <td>False</td>\n",
       "      <td>False</td>\n",
       "      <td>False</td>\n",
       "      <td>False</td>\n",
       "    </tr>\n",
       "    <tr>\n",
       "      <th>980</th>\n",
       "      <td>49</td>\n",
       "      <td>False</td>\n",
       "      <td>2</td>\n",
       "      <td>0</td>\n",
       "      <td>1</td>\n",
       "      <td>8386</td>\n",
       "      <td>30</td>\n",
       "      <td>bad</td>\n",
       "      <td>False</td>\n",
       "      <td>True</td>\n",
       "      <td>False</td>\n",
       "      <td>False</td>\n",
       "      <td>False</td>\n",
       "      <td>False</td>\n",
       "      <td>False</td>\n",
       "      <td>True</td>\n",
       "      <td>False</td>\n",
       "      <td>False</td>\n",
       "      <td>False</td>\n",
       "    </tr>\n",
       "    <tr>\n",
       "      <th>981</th>\n",
       "      <td>33</td>\n",
       "      <td>False</td>\n",
       "      <td>3</td>\n",
       "      <td>0</td>\n",
       "      <td>NaN</td>\n",
       "      <td>4844</td>\n",
       "      <td>48</td>\n",
       "      <td>bad</td>\n",
       "      <td>False</td>\n",
       "      <td>False</td>\n",
       "      <td>True</td>\n",
       "      <td>True</td>\n",
       "      <td>False</td>\n",
       "      <td>False</td>\n",
       "      <td>False</td>\n",
       "      <td>False</td>\n",
       "      <td>False</td>\n",
       "      <td>False</td>\n",
       "      <td>False</td>\n",
       "    </tr>\n",
       "    <tr>\n",
       "      <th>983</th>\n",
       "      <td>26</td>\n",
       "      <td>False</td>\n",
       "      <td>2</td>\n",
       "      <td>0</td>\n",
       "      <td>0</td>\n",
       "      <td>8229</td>\n",
       "      <td>36</td>\n",
       "      <td>bad</td>\n",
       "      <td>False</td>\n",
       "      <td>True</td>\n",
       "      <td>False</td>\n",
       "      <td>False</td>\n",
       "      <td>True</td>\n",
       "      <td>False</td>\n",
       "      <td>False</td>\n",
       "      <td>False</td>\n",
       "      <td>False</td>\n",
       "      <td>False</td>\n",
       "      <td>False</td>\n",
       "    </tr>\n",
       "    <tr>\n",
       "      <th>998</th>\n",
       "      <td>23</td>\n",
       "      <td>False</td>\n",
       "      <td>2</td>\n",
       "      <td>0</td>\n",
       "      <td>0</td>\n",
       "      <td>1845</td>\n",
       "      <td>45</td>\n",
       "      <td>bad</td>\n",
       "      <td>True</td>\n",
       "      <td>False</td>\n",
       "      <td>False</td>\n",
       "      <td>False</td>\n",
       "      <td>False</td>\n",
       "      <td>False</td>\n",
       "      <td>False</td>\n",
       "      <td>False</td>\n",
       "      <td>True</td>\n",
       "      <td>False</td>\n",
       "      <td>False</td>\n",
       "    </tr>\n",
       "  </tbody>\n",
       "</table>\n",
       "<p>300 rows × 19 columns</p>\n",
       "</div>"
      ],
      "text/plain": [
       "     Age    Sex  Job Saving accounts Checking account  Credit amount  \\\n",
       "1     22   True    2               0                1           5951   \n",
       "4     53  False    2               0                0           4870   \n",
       "9     28  False    3               0                1           5234   \n",
       "10    25   True    2               0                1           1295   \n",
       "11    24   True    2               0                0           4308   \n",
       "..   ...    ...  ...             ...              ...            ...   \n",
       "979   25  False    2               1                1           1264   \n",
       "980   49  False    2               0                1           8386   \n",
       "981   33  False    3               0              NaN           4844   \n",
       "983   26  False    2               0                0           8229   \n",
       "998   23  False    2               0                0           1845   \n",
       "\n",
       "     Duration Risk   free    own   rent  business    car  domestic appliances  \\\n",
       "1          48  bad  False   True  False     False  False                False   \n",
       "4          24  bad   True  False  False     False   True                False   \n",
       "9          30  bad  False   True  False     False   True                False   \n",
       "10         12  bad  False  False   True     False   True                False   \n",
       "11         48  bad  False  False   True      True  False                False   \n",
       "..        ...  ...    ...    ...    ...       ...    ...                  ...   \n",
       "979        15  bad  False  False   True     False   True                False   \n",
       "980        30  bad  False   True  False     False  False                False   \n",
       "981        48  bad  False  False   True      True  False                False   \n",
       "983        36  bad  False   True  False     False   True                False   \n",
       "998        45  bad   True  False  False     False  False                False   \n",
       "\n",
       "     education  furniture/equipment  radio/TV  repairs  vacation/others  \n",
       "1        False                False      True    False            False  \n",
       "4        False                False     False    False            False  \n",
       "9        False                False     False    False            False  \n",
       "10       False                False     False    False            False  \n",
       "11       False                False     False    False            False  \n",
       "..         ...                  ...       ...      ...              ...  \n",
       "979      False                False     False    False            False  \n",
       "980      False                 True     False    False            False  \n",
       "981      False                False     False    False            False  \n",
       "983      False                False     False    False            False  \n",
       "998      False                False      True    False            False  \n",
       "\n",
       "[300 rows x 19 columns]"
      ]
     },
     "execution_count": 56,
     "metadata": {},
     "output_type": "execute_result"
    }
   ],
   "source": [
    "df_tratado = df.copy()\n",
    "\n",
    "# Sex\n",
    "df_tratado.loc[df_tratado['Sex'] == 'male', 'Sex'] = False\n",
    "df_tratado.loc[df_tratado['Sex'] == 'female', 'Sex'] = True\n",
    "df_tratado['Sex'] = df_tratado['Sex'].astype(bool)\n",
    "\n",
    "# Job\n",
    "# Ja esta representado com numeros da forma correta\n",
    "\n",
    "# Housing\n",
    "dummies = pd.get_dummies(df_tratado['Housing'])\n",
    "df_tratado = pd.concat([df_tratado, dummies], axis=1)\n",
    "df_tratado = df_tratado.drop('Housing', axis=1)\n",
    "\n",
    "# Saving accounts\n",
    "# 0 = little, 1 = moderate, 2 = quite rich, 3 = rich\n",
    "df_tratado.loc[df_tratado['Saving accounts'] == 'little', 'Saving accounts'] = 0\n",
    "df_tratado.loc[df_tratado['Saving accounts'] == 'moderate', 'Saving accounts'] = 1\n",
    "df_tratado.loc[df_tratado['Saving accounts'] == 'quite rich', 'Saving accounts'] = 2\n",
    "df_tratado.loc[df_tratado['Saving accounts'] == 'rich', 'Saving accounts'] = 3\n",
    "\n",
    "# Checking account\n",
    "# 0 = little, 1 = moderate, 2 = rich\n",
    "df_tratado.loc[df_tratado['Checking account'] == 'little', 'Checking account'] = 0\n",
    "df_tratado.loc[df_tratado['Checking account'] == 'moderate', 'Checking account'] = 1\n",
    "df_tratado.loc[df_tratado['Checking account'] == 'rich', 'Checking account'] = 2\n",
    "\n",
    "# Purpose\n",
    "dummies = pd.get_dummies(df_tratado['Purpose'])\n",
    "df_tratado = pd.concat([df_tratado, dummies], axis=1)\n",
    "df_tratado = df_tratado.drop('Purpose', axis=1)\n",
    "\n",
    "df_tratado[df_tratado['Risk'] == 'bad']"
   ]
  },
  {
   "cell_type": "markdown",
   "id": "73d2866a",
   "metadata": {},
   "source": [
    "### Sem Tratamento dos Dados"
   ]
  },
  {
   "cell_type": "code",
   "execution_count": 50,
   "id": "2d3d4cc8",
   "metadata": {},
   "outputs": [
    {
     "name": "stdout",
     "output_type": "stream",
     "text": [
      "Melhores hiperparâmetros: {'max_depth': 4, 'min_samples_leaf': 32, 'min_samples_split': 2}\n",
      "Relatório:\n",
      "               precision    recall  f1-score   support\n",
      "\n",
      "         bad       1.00      0.10      0.18        60\n",
      "        good       0.72      1.00      0.84       140\n",
      "\n",
      "    accuracy                           0.73       200\n",
      "   macro avg       0.86      0.55      0.51       200\n",
      "weighted avg       0.81      0.73      0.64       200\n",
      "\n"
     ]
    }
   ],
   "source": [
    "X = df_tratado.drop('Risk', axis=1)\n",
    "y = df_tratado['Risk']\n",
    "\n",
    "X_train, X_test, y_train, y_test = train_test_split(\n",
    "    X, y, test_size=0.2, random_state=42, stratify=y\n",
    ")\n",
    "\n",
    "model = trained_model(X_train, y_train)\n",
    "predict_and_evaluate(model, X_test, y_test)"
   ]
  },
  {
   "cell_type": "markdown",
   "id": "bca8db3e",
   "metadata": {},
   "source": [
    "### Limpando os Dados"
   ]
  },
  {
   "cell_type": "markdown",
   "id": "e1c28140",
   "metadata": {},
   "source": [
    "Como não há *outliers* nessa base, não preciso me preocupar com o tratamento desse tipo de problema. Mas há $183$ valores faltantes para `Saving accounts` e $394$ para `Checking account`."
   ]
  },
  {
   "cell_type": "markdown",
   "id": "f01af34d",
   "metadata": {},
   "source": [
    "#### Removendo Linhas"
   ]
  },
  {
   "cell_type": "markdown",
   "id": "a710f92c",
   "metadata": {},
   "source": [
    "Pela base de dados ter poucos registros ($1000$), acredito que seguir pela estratégia de remoção de linhas irá mais atrapalhar o modelo do que ajudar, mas não custa fazer a avaliação. Para isso, irei avaliar dois pontos que me preocupam:\n",
    "\n",
    "1. Quantos registros terei da base se remover registros com valores faltantes?\n",
    "2. A proporcionalidade entre as classes `Risk` se manterá?\n",
    "\n",
    "Farei a avaliação desses dois pontos para os seguintes cenários:\n",
    "1. Removendo o atributo `Saving accounts`\n",
    "2. Removendo o atributo `Checking account`\n",
    "3. Removendo ambos."
   ]
  },
  {
   "cell_type": "code",
   "execution_count": 39,
   "id": "4436ef98",
   "metadata": {},
   "outputs": [
    {
     "data": {
      "image/png": "[encoded data removed]",
      "text/plain": [
       "<Figure size 640x480 with 1 Axes>"
      ]
     },
     "metadata": {},
     "output_type": "display_data"
    }
   ],
   "source": [
    "total = len(df)\n",
    "risk_good = len(df[df['Risk'] == 'good'])\n",
    "risk_bad = len(df[df['Risk'] == 'bad'])\n",
    "\n",
    "df_sem_saving = df.dropna(subset=['Saving accounts'])\n",
    "risk_good_sem_saving = len(df_sem_saving[df_sem_saving['Risk'] == 'good'])\n",
    "risk_bad_sem_saving = len(df_sem_saving[df_sem_saving['Risk'] == 'bad'])\n",
    "\n",
    "df_sem_checking = df.dropna(subset=['Checking account'])\n",
    "risk_good_sem_checking = len(df_sem_checking[df_sem_checking['Risk'] == 'good'])\n",
    "risk_bad_sem_cheking = len(df_sem_checking[df_sem_checking['Risk'] == 'bad'])\n",
    "\n",
    "df_sem_ambos = df.dropna(subset=['Saving accounts', 'Checking account'])\n",
    "risk_good_sem_ambos = len(df_sem_ambos[df_sem_ambos['Risk'] == 'good'])\n",
    "risk_bad_sem_ambos = len(df_sem_ambos[df_sem_ambos['Risk'] == 'bad'])\n",
    "\n",
    "rotulos = ('Base Original', 'Cenário 1', 'Cenário 2', 'Cenário 3')\n",
    "risks = {\n",
    "    'good': np.array([risk_good, risk_good_sem_saving, risk_good_sem_checking, risk_good_sem_ambos]),\n",
    "    'bad': np.array([risk_bad, risk_bad_sem_saving, risk_bad_sem_cheking, risk_bad_sem_ambos])\n",
    "}\n",
    "\n",
    "fig, ax = plt.subplots()\n",
    "ax.set_ylim(0, 1200)\n",
    "\n",
    "bottom = np.zeros(4)\n",
    "\n",
    "for risk, values in risks.items():\n",
    "    p = ax.bar(rotulos, values, label=risk, bottom=bottom)\n",
    "    bottom += values\n",
    "    ax.bar_label(p, label_type='center')\n",
    "\n",
    "for idx, total in enumerate(bottom):\n",
    "    ax.text(idx, total + 60, f'{int(total)} registros', ha='center', va='bottom')\n",
    "    good_percentage = (risks['good'][idx] / total) * 100\n",
    "    bad_percentage = (risks['bad'][idx] / total) * 100\n",
    "    ax.text(idx, total + 10, f'{good_percentage:.2f}% | {bad_percentage:.2f}%', ha='center', va='bottom',)\n",
    "\n",
    "ax.set_title('Exclusão de linhas com valores faltantes')\n",
    "ax.legend()\n",
    "\n",
    "plt.show()"
   ]
  },
  {
   "cell_type": "markdown",
   "id": "97c9a2ef",
   "metadata": {},
   "source": [
    "Como podemos perceber, para cada estratégia, ficamos com cada vez menos registros e a proporção entre as proporções dos valores do atributo `Risk` também altera consideravelmente. A única estratégia que talvez ajude será a do cenário 1, removendo os registros nulos para o atributo `Saving accounts`. Escrevo isso com bastante desconfiança, pois aainda acredito não ser uma boa estratégia, mas irei avaliar cada um desses cenários no modelo."
   ]
  },
  {
   "cell_type": "markdown",
   "id": "e8ea8d06",
   "metadata": {},
   "source": [
    "#### Cenário 1 - Sem `Saving accounts`"
   ]
  },
  {
   "cell_type": "code",
   "execution_count": 51,
   "id": "a42b30bf",
   "metadata": {},
   "outputs": [
    {
     "name": "stdout",
     "output_type": "stream",
     "text": [
      "Melhores hiperparâmetros: {'max_depth': 2, 'min_samples_leaf': 4, 'min_samples_split': 2}\n",
      "Relatório:\n",
      "               precision    recall  f1-score   support\n",
      "\n",
      "         bad       0.51      0.44      0.48        54\n",
      "        good       0.74      0.79      0.77       110\n",
      "\n",
      "    accuracy                           0.68       164\n",
      "   macro avg       0.63      0.62      0.62       164\n",
      "weighted avg       0.67      0.68      0.67       164\n",
      "\n"
     ]
    }
   ],
   "source": [
    "df_cleaned = df_tratado.dropna(subset=['Saving accounts'])\n",
    "\n",
    "X = df_cleaned.drop('Risk', axis=1)\n",
    "y = df_cleaned['Risk']\n",
    "\n",
    "X_train, X_test, y_train, y_test = train_test_split(\n",
    "    X, y, test_size=0.2, random_state=42, stratify=y\n",
    ")\n",
    "model = trained_model(X_train, y_train)\n",
    "predict_and_evaluate(model, X_test, y_test)"
   ]
  },
  {
   "cell_type": "markdown",
   "id": "8dae5f4f",
   "metadata": {},
   "source": [
    "#### Cenário 2 - Sem `Checking account`"
   ]
  },
  {
   "cell_type": "code",
   "execution_count": 52,
   "id": "96eaccae",
   "metadata": {},
   "outputs": [
    {
     "name": "stdout",
     "output_type": "stream",
     "text": [
      "Melhores hiperparâmetros: {'max_depth': 8, 'min_samples_leaf': 1, 'min_samples_split': 16}\n",
      "Relatório:\n",
      "               precision    recall  f1-score   support\n",
      "\n",
      "         bad       0.52      0.43      0.47        51\n",
      "        good       0.64      0.72      0.68        71\n",
      "\n",
      "    accuracy                           0.60       122\n",
      "   macro avg       0.58      0.57      0.57       122\n",
      "weighted avg       0.59      0.60      0.59       122\n",
      "\n"
     ]
    }
   ],
   "source": [
    "df_cleaned = df_tratado.dropna(subset=['Checking account'])\n",
    "\n",
    "X = df_cleaned.drop('Risk', axis=1)\n",
    "y = df_cleaned['Risk']\n",
    "\n",
    "X_train, X_test, y_train, y_test = train_test_split(\n",
    "    X, y, test_size=0.2, random_state=42, stratify=y\n",
    ")\n",
    "model = trained_model(X_train, y_train)\n",
    "predict_and_evaluate(model, X_test, y_test)"
   ]
  },
  {
   "cell_type": "markdown",
   "id": "7fcab412",
   "metadata": {},
   "source": [
    "#### Cenário 3 - Sem ambos"
   ]
  },
  {
   "cell_type": "code",
   "execution_count": 53,
   "id": "6e1c27f7",
   "metadata": {},
   "outputs": [
    {
     "name": "stdout",
     "output_type": "stream",
     "text": [
      "Melhores hiperparâmetros: {'max_depth': 2, 'min_samples_leaf': 8, 'min_samples_split': 2}\n",
      "Relatório:\n",
      "               precision    recall  f1-score   support\n",
      "\n",
      "         bad       0.53      0.50      0.52        46\n",
      "        good       0.63      0.66      0.64        59\n",
      "\n",
      "    accuracy                           0.59       105\n",
      "   macro avg       0.58      0.58      0.58       105\n",
      "weighted avg       0.59      0.59      0.59       105\n",
      "\n"
     ]
    }
   ],
   "source": [
    "df_cleaned = df_tratado.dropna(subset=['Saving accounts', 'Checking account'])\n",
    "\n",
    "X = df_cleaned.drop('Risk', axis=1)\n",
    "y = df_cleaned['Risk']\n",
    "\n",
    "X_train, X_test, y_train, y_test = train_test_split(\n",
    "    X, y, test_size=0.2, random_state=42, stratify=y\n",
    ")\n",
    "model = trained_model(X_train, y_train)\n",
    "predict_and_evaluate(model, X_test, y_test)"
   ]
  },
  {
   "cell_type": "markdown",
   "id": "12f2a320",
   "metadata": {},
   "source": [
    "#### Missing - Removendo Colunas"
   ]
  },
  {
   "cell_type": "code",
   "execution_count": 54,
   "id": "04f0b35c",
   "metadata": {},
   "outputs": [
    {
     "name": "stdout",
     "output_type": "stream",
     "text": [
      "Melhores hiperparâmetros: {'max_depth': 2, 'min_samples_leaf': 1, 'min_samples_split': 2}\n",
      "Relatório:\n",
      "               precision    recall  f1-score   support\n",
      "\n",
      "         bad       0.60      0.15      0.24        60\n",
      "        good       0.72      0.96      0.82       140\n",
      "\n",
      "    accuracy                           0.71       200\n",
      "   macro avg       0.66      0.55      0.53       200\n",
      "weighted avg       0.69      0.71      0.65       200\n",
      "\n"
     ]
    }
   ],
   "source": [
    "df_cleaned = df_tratado.dropna(axis=1)\n",
    "\n",
    "X = df_cleaned.drop('Risk', axis=1)\n",
    "y = df_cleaned['Risk']\n",
    "\n",
    "X_train, X_test, y_train, y_test = train_test_split(\n",
    "    X, y, test_size=0.2, random_state=42, stratify=y\n",
    ")\n",
    "model = trained_model(X_train, y_train)\n",
    "predict_and_evaluate(model, X_test, y_test)"
   ]
  },
  {
   "cell_type": "markdown",
   "id": "19b935ab",
   "metadata": {},
   "source": [
    "#### Missing (categorico) - Moda"
   ]
  },
  {
   "cell_type": "code",
   "execution_count": 55,
   "id": "96c85ca1",
   "metadata": {},
   "outputs": [
    {
     "name": "stderr",
     "output_type": "stream",
     "text": [
      "/tmp/ipykernel_250456/2550127999.py:2: FutureWarning: A value is trying to be set on a copy of a DataFrame or Series through chained assignment using an inplace method.\n",
      "The behavior will change in pandas 3.0. This inplace method will never work because the intermediate object on which we are setting values always behaves as a copy.\n",
      "\n",
      "For example, when doing 'df[col].method(value, inplace=True)', try using 'df.method({col: value}, inplace=True)' or df[col] = df[col].method(value) instead, to perform the operation inplace on the original object.\n",
      "\n",
      "\n",
      "  df_mode_filled['Saving accounts'].fillna(df_mode_filled['Saving accounts'].mode()[0], inplace=True)\n",
      "/tmp/ipykernel_250456/2550127999.py:2: FutureWarning: Downcasting object dtype arrays on .fillna, .ffill, .bfill is deprecated and will change in a future version. Call result.infer_objects(copy=False) instead. To opt-in to the future behavior, set `pd.set_option('future.no_silent_downcasting', True)`\n",
      "  df_mode_filled['Saving accounts'].fillna(df_mode_filled['Saving accounts'].mode()[0], inplace=True)\n",
      "/tmp/ipykernel_250456/2550127999.py:3: FutureWarning: A value is trying to be set on a copy of a DataFrame or Series through chained assignment using an inplace method.\n",
      "The behavior will change in pandas 3.0. This inplace method will never work because the intermediate object on which we are setting values always behaves as a copy.\n",
      "\n",
      "For example, when doing 'df[col].method(value, inplace=True)', try using 'df.method({col: value}, inplace=True)' or df[col] = df[col].method(value) instead, to perform the operation inplace on the original object.\n",
      "\n",
      "\n",
      "  df_mode_filled['Checking account'].fillna(df_mode_filled['Checking account'].mode()[0], inplace=True)\n",
      "/tmp/ipykernel_250456/2550127999.py:3: FutureWarning: Downcasting object dtype arrays on .fillna, .ffill, .bfill is deprecated and will change in a future version. Call result.infer_objects(copy=False) instead. To opt-in to the future behavior, set `pd.set_option('future.no_silent_downcasting', True)`\n",
      "  df_mode_filled['Checking account'].fillna(df_mode_filled['Checking account'].mode()[0], inplace=True)\n"
     ]
    },
    {
     "name": "stdout",
     "output_type": "stream",
     "text": [
      "Melhores hiperparâmetros: {'max_depth': 2, 'min_samples_leaf': 1, 'min_samples_split': 2}\n",
      "Relatório:\n",
      "               precision    recall  f1-score   support\n",
      "\n",
      "         bad       0.60      0.15      0.24        60\n",
      "        good       0.72      0.96      0.82       140\n",
      "\n",
      "    accuracy                           0.71       200\n",
      "   macro avg       0.66      0.55      0.53       200\n",
      "weighted avg       0.69      0.71      0.65       200\n",
      "\n"
     ]
    }
   ],
   "source": [
    "df_mode_filled = df_tratado.copy()\n",
    "df_mode_filled['Saving accounts'].fillna(df_mode_filled['Saving accounts'].mode()[0], inplace=True)\n",
    "df_mode_filled['Checking account'].fillna(df_mode_filled['Checking account'].mode()[0], inplace=True)\n",
    "\n",
    "X = df_mode_filled.drop('Risk', axis=1)\n",
    "y = df_mode_filled['Risk']\n",
    "\n",
    "X_train, X_test, y_train, y_test = train_test_split(\n",
    "    X, y, test_size=0.2, random_state=42, stratify=y\n",
    ")\n",
    "model = trained_model(X_train, y_train)\n",
    "predict_and_evaluate(model, X_test, y_test)"
   ]
  },
  {
   "cell_type": "markdown",
   "id": "4e85375a",
   "metadata": {},
   "source": [
    "# Exercício 2"
   ]
  },
  {
   "cell_type": "markdown",
   "id": "e6516505",
   "metadata": {},
   "source": [
    "## Método 1 - Árvore de Decisão"
   ]
  },
  {
   "cell_type": "code",
   "execution_count": null,
   "id": "f3e692ab",
   "metadata": {},
   "outputs": [
    {
     "data": {
      "text/plain": [
       "Credit amount       0.255074\n",
       "Age                 0.205892\n",
       "Duration            0.130905\n",
       "Checking account    0.119156\n",
       "Purpose             0.086709\n",
       "dtype: float64"
      ]
     },
     "execution_count": 34,
     "metadata": {},
     "output_type": "execute_result"
    }
   ],
   "source": [
    "X = df.drop('Risk', axis=1)\n",
    "y = df['Risk']\n",
    "\n",
    "X_train, X_test, y_train, y_test = split(X, y)\n",
    "\n",
    "model = DecisionTreeClassifier(random_state=42)\n",
    "model.fit(X_train, y_train)\n",
    "tree_importances = pd.Series(model.feature_importances_, index=X.columns)\n",
    "tree_importances.sort_values(ascending=False)[:5]\n"
   ]
  },
  {
   "cell_type": "markdown",
   "id": "5db84781",
   "metadata": {},
   "source": [
    "## Método 2 - ANOVA (f_classif) – Numéricos"
   ]
  },
  {
   "cell_type": "code",
   "execution_count": null,
   "id": "f5991cd4",
   "metadata": {},
   "outputs": [
    {
     "data": {
      "text/plain": [
       "Duration            46.528937\n",
       "Credit amount       19.456633\n",
       "Saving accounts      5.404087\n",
       "Checking account     5.321128\n",
       "Age                  1.398350\n",
       "dtype: float64"
      ]
     },
     "execution_count": 35,
     "metadata": {},
     "output_type": "execute_result"
    }
   ],
   "source": [
    "from sklearn.feature_selection import SelectKBest, f_classif\n",
    "\n",
    "df.dropna(inplace=True)\n",
    "\n",
    "X = df.drop('Risk', axis=1)\n",
    "y = df['Risk']\n",
    "\n",
    "X_train, X_test, y_train, y_test = split(X, y)\n",
    "\n",
    "num_cols = X_train.select_dtypes(include=[np.number]).columns.tolist()\n",
    "\n",
    "anova_selector = SelectKBest(score_func=f_classif, k='all')\n",
    "anova_selector.fit(X_train[num_cols], y_train)\n",
    "anova_scores = pd.Series(anova_selector.scores_, index=num_cols)\n",
    "anova_scores.sort_values(ascending=False)[:5]"
   ]
  },
  {
   "cell_type": "markdown",
   "id": "d4662725",
   "metadata": {},
   "source": [
    "## Qui-quadrado – Categóricos"
   ]
  },
  {
   "cell_type": "code",
   "execution_count": null,
   "id": "2a1b82d0",
   "metadata": {},
   "outputs": [
    {
     "data": {
      "text/plain": [
       "Saving accounts     9.294797\n",
       "Checking account    3.555395\n",
       "Purpose             1.338454\n",
       "Sex                 0.259784\n",
       "Housing             0.023897\n",
       "dtype: float64"
      ]
     },
     "execution_count": 36,
     "metadata": {},
     "output_type": "execute_result"
    }
   ],
   "source": [
    "from sklearn.feature_selection import chi2\n",
    "from sklearn.preprocessing import OrdinalEncoder\n",
    "\n",
    "df.dropna(inplace=True)\n",
    "\n",
    "X = df.drop('Risk', axis=1)\n",
    "y = df['Risk']\n",
    "\n",
    "cat_cols = X.select_dtypes(include=['object']).columns.tolist()\n",
    "\n",
    "X_train, X_test, y_train, y_test = split(X, y)\n",
    "\n",
    "X_encoded = X_train.copy()\n",
    "encoder = OrdinalEncoder()\n",
    "X_encoded[cat_cols] = encoder.fit_transform(X_encoded[cat_cols])\n",
    "\n",
    "chi2_selector = SelectKBest(score_func=chi2, k='all')\n",
    "chi2_selector.fit(X_encoded[cat_cols], y_train)\n",
    "chi2_scores = pd.Series(chi2_selector.scores_, index=cat_cols)\n",
    "chi2_scores.sort_values(ascending=False)[:5]\n"
   ]
  },
  {
   "cell_type": "code",
   "execution_count": 37,
   "id": "90befd0d",
   "metadata": {},
   "outputs": [
    {
     "name": "stdout",
     "output_type": "stream",
     "text": [
      "                  Decision Tree  ANOVA (num)  Chi2 (cat)\n",
      "Credit amount               1.0          2.0         NaN\n",
      "Age                         2.0          5.0         NaN\n",
      "Duration                    3.0          1.0         NaN\n",
      "Checking account            4.0          4.0         2.0\n",
      "Purpose                     5.0          6.0         3.0\n",
      "Saving accounts             6.0          3.0         1.0\n",
      "Job                         7.0          8.0         NaN\n",
      "Housing                     8.0          9.0         5.0\n",
      "Sex                         9.0          7.0         4.0\n"
     ]
    }
   ],
   "source": [
    "# Unir tudo em um único DataFrame\n",
    "ranking_df = pd.DataFrame({\n",
    "    'Decision Tree': tree_importances,\n",
    "    'ANOVA (num)': anova_scores,\n",
    "    'Chi2 (cat)': chi2_scores\n",
    "})\n",
    "\n",
    "# Ranking (quanto menor o número, mais importante)\n",
    "ranking_df_ranked = ranking_df.rank(ascending=False)\n",
    "ranking_df_ranked = ranking_df_ranked.sort_values(by='Decision Tree')\n",
    "print(ranking_df_ranked)\n"
   ]
  }
 ],
 "metadata": {
  "kernelspec": {
   "display_name": ".venv",
   "language": "python",
   "name": "python3"
  },
  "language_info": {
   "codemirror_mode": {
    "name": "ipython",
    "version": 3
   },
   "file_extension": ".py",
   "mimetype": "text/x-python",
   "name": "python",
   "nbconvert_exporter": "python",
   "pygments_lexer": "ipython3",
   "version": "3.12.3"
  }
 },
 "nbformat": 4,
 "nbformat_minor": 5
}
