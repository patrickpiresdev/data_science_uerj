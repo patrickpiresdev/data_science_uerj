{
 "cells": [
  {
   "cell_type": "markdown",
   "id": "24a9ac98",
   "metadata": {},
   "source": [
    "# Exercício 1"
   ]
  },
  {
   "cell_type": "markdown",
   "id": "ee049154",
   "metadata": {},
   "source": [
    "## Enunciado"
   ]
  },
  {
   "cell_type": "markdown",
   "id": "393c54fb",
   "metadata": {},
   "source": [
    "A partir da base de dados:\n",
    "\n",
    "- Parte 1: Descreva a base de dados descrendo os atributos, numéricos e categóricos, classificando segundo a escala (nominal ou razão) e a cardinalidade (discreta, contínua, binária).\n",
    "\n",
    "- Parte 2: Descreva cada um dos atributos segundo frequência, mínimo e máximo valor, dia desvios padrão, conforme o caso.\n",
    "\n",
    "- Parte 3: Avalie os resultados dos processos abaixo, caso sejam utilizados na base de dados, após o processo de classificação com DT ter sido utilizado.\n",
    "    - limpeza de dados (outlier, missing)\n",
    "    - normalização/transformação\n",
    "    - discretização"
   ]
  },
  {
   "cell_type": "markdown",
   "id": "62bf8f8e",
   "metadata": {},
   "source": [
    "## Parte 1"
   ]
  },
  {
   "cell_type": "markdown",
   "id": "b3d2c824",
   "metadata": {},
   "source": [
    "Para entender melhor sobre os dados e conseguir classificá-los e descrevê-los, irei fazer uma análise dos mesmos junto a sua descrição fornecida em `dataset_description.txt`."
   ]
  },
  {
   "cell_type": "markdown",
   "id": "0975a274",
   "metadata": {},
   "source": [
    "#### Descrição"
   ]
  },
  {
   "cell_type": "markdown",
   "id": "d5cf34ae",
   "metadata": {},
   "source": [
    "https://www.kaggle.com/uciml/german-credit\n",
    "\n",
    "Context\n",
    "\n",
    "The original dataset contains 1000 entries with 20 categorial/symbolic attributes prepared by Prof. Hofmann. In this dataset, each entry represents a person who takes a credit by a bank. Each person is classified as good or bad credit risks according to the set of attributes. The link to the original dataset can be found below.\n",
    "\n",
    "Content\n",
    "\n",
    "It is almost impossible to understand the original dataset due to its complicated system of categories and symbols. Thus, I wrote a small Python script to convert it into a readable CSV file. Several columns are simply ignored, because in my opinion either they are not important or their descriptions are obscure. The selected attributes are:\n",
    "\n",
    "- Age (numeric)\n",
    "- Sex (text: male, female)\n",
    "- Job (numeric: 0 - unskilled and non-resident, 1 - unskilled and resident, 2 - skilled, 3 - highly skilled)\n",
    "- Housing (text: own, rent, or free)\n",
    "- Saving accounts (text - little, moderate, quite rich, rich)\n",
    "- Checking account (numeric, in DM - Deutsch Mark)\n",
    "- Credit amount (numeric, in DM)\n",
    "- Duration (numeric, in month)\n",
    "- Purpose (text: car, furniture/equipment, radio/TV, domestic appliances, repairs, education, business, vacation/others)"
   ]
  },
  {
   "cell_type": "markdown",
   "id": "521a7033",
   "metadata": {},
   "source": [
    "#### Imports"
   ]
  },
  {
   "cell_type": "code",
   "execution_count": 213,
   "id": "9df27821",
   "metadata": {},
   "outputs": [],
   "source": [
    "import pandas as pd\n",
    "import numpy as np\n",
    "import matplotlib.pyplot as plt\n",
    "import seaborn as sns\n",
    "from sklearn import tree\n",
    "from sklearn.tree import DecisionTreeClassifier\n",
    "from sklearn.model_selection import train_test_split, GridSearchCV\n",
    "from sklearn.metrics import make_scorer, recall_score, accuracy_score, confusion_matrix\n",
    "from sklearn.feature_selection import SelectKBest, f_classif, chi2"
   ]
  },
  {
   "cell_type": "markdown",
   "id": "02df0134",
   "metadata": {},
   "source": [
    "#### Panorama dos dados"
   ]
  },
  {
   "cell_type": "code",
   "execution_count": 215,
   "id": "3bc91bde",
   "metadata": {},
   "outputs": [
    {
     "name": "stdout",
     "output_type": "stream",
     "text": [
      "<class 'pandas.core.frame.DataFrame'>\n",
      "RangeIndex: 1000 entries, 0 to 999\n",
      "Data columns (total 10 columns):\n",
      " #   Column            Non-Null Count  Dtype \n",
      "---  ------            --------------  ----- \n",
      " 0   Age               1000 non-null   int64 \n",
      " 1   Sex               1000 non-null   object\n",
      " 2   Job               1000 non-null   int64 \n",
      " 3   Housing           1000 non-null   object\n",
      " 4   Saving accounts   817 non-null    object\n",
      " 5   Checking account  606 non-null    object\n",
      " 6   Credit amount     1000 non-null   int64 \n",
      " 7   Duration          1000 non-null   int64 \n",
      " 8   Purpose           1000 non-null   object\n",
      " 9   Risk              1000 non-null   object\n",
      "dtypes: int64(4), object(6)\n",
      "memory usage: 78.3+ KB\n"
     ]
    }
   ],
   "source": [
    "df = pd.read_csv('class_german_credit.csv')\n",
    "df.info()"
   ]
  },
  {
   "cell_type": "markdown",
   "id": "24298352",
   "metadata": {},
   "source": [
    "Como uma breve interpretação desse resumo dos dados, já podemos ver que há valores faltantes (*missing*) para os atributos `Saving accounts` e `Checking account`.\n",
    "\n",
    "Além disso, na descrição dada por `dataset_description.txt`, o atributo `Checking account` é dito como numérico, mas acima é dito como `object`, não um tipo numérico como era de se esperar.\n",
    "\n",
    "Para obter mais informações relevantes acerca dos dado, irei realizar uma análise exploratória sobre cada atributo individualmente."
   ]
  },
  {
   "cell_type": "markdown",
   "id": "f8f5d2b9",
   "metadata": {},
   "source": [
    "### Age"
   ]
  },
  {
   "cell_type": "markdown",
   "id": "e4afab86",
   "metadata": {},
   "source": [
    "Pela descrição em `dataset_description.txt` e no resumo do dataframe, podemos ver que é um dado numérico/quantitativo. Agora irei explorar para obter mais informações desse atributo."
   ]
  },
  {
   "cell_type": "code",
   "execution_count": 216,
   "id": "d8d2cb81",
   "metadata": {},
   "outputs": [
    {
     "name": "stdout",
     "output_type": "stream",
     "text": [
      "--------- descrição estatística ---------\n",
      "count    1000.000000\n",
      "mean       35.546000\n",
      "std        11.375469\n",
      "min        19.000000\n",
      "25%        27.000000\n",
      "50%        33.000000\n",
      "75%        42.000000\n",
      "max        75.000000\n",
      "Name: Age, dtype: float64\n",
      "\n",
      "--------- valores faltantes ---------\n",
      "Empty DataFrame\n",
      "Columns: [Age, Sex, Job, Housing, Saving accounts, Checking account, Credit amount, Duration, Purpose, Risk]\n",
      "Index: []\n"
     ]
    }
   ],
   "source": [
    "print('--------- descrição estatística ---------')\n",
    "print(df['Age'].describe())\n",
    "\n",
    "print('\\n--------- valores faltantes ---------')\n",
    "print(df[df['Age'].isnull()])"
   ]
  },
  {
   "cell_type": "markdown",
   "id": "8bc8cdba",
   "metadata": {},
   "source": [
    "Como pode ser observado acima, o atributo `Age` se classifica como **quantitativo discreto** e seu nível (escala) de mensuração é **racional**.\n",
    "\n",
    "Além disso, claramente não há valores faltantes (*missing*) por terem $1000$ valores dentre $1000$ registros e nenhum deles ser nulo.\n",
    "\n",
    "Podemos perceber também que não há valores discrepantes (*outliers*) por seus valores mínimo e máximo serem, respectivamente, $19$ e $75$."
   ]
  },
  {
   "cell_type": "markdown",
   "id": "17818a59",
   "metadata": {},
   "source": [
    "### Sex"
   ]
  },
  {
   "cell_type": "markdown",
   "id": "bc5515c7",
   "metadata": {},
   "source": [
    "Pela descrição em `dataset_description.txt` e no resumo do dataframe, podemos ver que é um dado do tipo texto e que assume apenas dois valores `male` (*masculino*) e `female` (*feminino*)."
   ]
  },
  {
   "cell_type": "code",
   "execution_count": 217,
   "id": "e2504498",
   "metadata": {},
   "outputs": [
    {
     "data": {
      "text/plain": [
       "Sex\n",
       "female    310\n",
       "male      690\n",
       "Name: count, dtype: int64"
      ]
     },
     "execution_count": 217,
     "metadata": {},
     "output_type": "execute_result"
    }
   ],
   "source": [
    "df['Sex'].value_counts(dropna=False).sort_index()"
   ]
  },
  {
   "cell_type": "markdown",
   "id": "b8fd45f0",
   "metadata": {},
   "source": [
    "Como observado acima, o atributo, de fato, assume os dois valores (ou categorias) mencionados anteriormente, com isso se classifica como **quantitativa nominal**.\n",
    "\n",
    "Além disso, somando as frequências temos $1000$ valores aparecendo nesse atributo sendo que nenhum deles é nulo, então não há valores faltantes (*missing*)."
   ]
  },
  {
   "cell_type": "markdown",
   "id": "ca69958c",
   "metadata": {},
   "source": [
    "### Job"
   ]
  },
  {
   "cell_type": "markdown",
   "id": "1beb1c87",
   "metadata": {},
   "source": [
    "Pela descrição em `dataset_description.txt` e no resumo do dataframe, podemos ver que é um dado do tipo categórico, apesar de ser representado de forma numérica."
   ]
  },
  {
   "cell_type": "code",
   "execution_count": 218,
   "id": "1a90d251",
   "metadata": {},
   "outputs": [
    {
     "data": {
      "text/plain": [
       "Job\n",
       "0     22\n",
       "1    200\n",
       "2    630\n",
       "3    148\n",
       "Name: count, dtype: int64"
      ]
     },
     "execution_count": 218,
     "metadata": {},
     "output_type": "execute_result"
    }
   ],
   "source": [
    "df['Job'].value_counts(dropna=False).sort_index()"
   ]
  },
  {
   "cell_type": "markdown",
   "id": "2aca005b",
   "metadata": {},
   "source": [
    "Não é possível identificar muito bem as frequências sem consultar o mapeamento em `dataset_description.txt`. Para facilitar a leitura irei fazer o mapeamento direto na contagem de valores.\n",
    "\n",
    "Mas antes disso, já é possível dizer que se trata de um dado **qualitativo ordinal** e que não há valores faltantes."
   ]
  },
  {
   "cell_type": "code",
   "execution_count": 219,
   "id": "337c5030",
   "metadata": {},
   "outputs": [
    {
     "data": {
      "text/plain": [
       "Job\n",
       "Unskilled and non-resident     22\n",
       "Unskilled and resident        200\n",
       "Skilled                       630\n",
       "Highly skilled                148\n",
       "Name: count, dtype: int64"
      ]
     },
     "execution_count": 219,
     "metadata": {},
     "output_type": "execute_result"
    }
   ],
   "source": [
    "job_titles = {\n",
    "    0: 'Unskilled and non-resident',\n",
    "    1: 'Unskilled and resident',\n",
    "    2: 'Skilled',\n",
    "    3: 'Highly skilled'\n",
    "}\n",
    "job_counts = df['Job'].value_counts().sort_index()\n",
    "job_counts.index = job_counts.index.map(job_titles)\n",
    "job_counts"
   ]
  },
  {
   "cell_type": "markdown",
   "id": "bcb7c871",
   "metadata": {},
   "source": [
    "> Dúvida para investigar: para árvore de decisão, esse campo deverá/poderá permanecer numérico ou deverá ser textual?\n",
    "\n",
    "> R.: Por essa variável ser ordinal e seus valores estarem adequados com as categorias, i.e., 0 representa o menos qualidicado e 3, o mais qualificado (segue a ordem do menor para o maior), o modelo conseguirá interpretá-la da maneira correta. O problema seria se fosse nominal. O modelo poderia entender que existe uma ordem e certa distância entre as categorias por serem números."
   ]
  },
  {
   "cell_type": "markdown",
   "id": "41e9aabb",
   "metadata": {},
   "source": [
    "### Housing"
   ]
  },
  {
   "cell_type": "markdown",
   "id": "afd9d6b2",
   "metadata": {},
   "source": [
    "Pela descrição em `dataset_description.txt` e no resumo do dataframe, podemos ver que é um dado do tipo categórico."
   ]
  },
  {
   "cell_type": "code",
   "execution_count": 220,
   "id": "9debf957",
   "metadata": {},
   "outputs": [
    {
     "data": {
      "text/plain": [
       "Housing\n",
       "free    108\n",
       "own     713\n",
       "rent    179\n",
       "Name: count, dtype: int64"
      ]
     },
     "execution_count": 220,
     "metadata": {},
     "output_type": "execute_result"
    }
   ],
   "source": [
    "df['Housing'].value_counts(dropna=False).sort_index()"
   ]
  },
  {
   "cell_type": "markdown",
   "id": "052f24a4",
   "metadata": {},
   "source": [
    "Pode-se ver que é um atributo do tipo **qualitativo nominal** e que não há valores faltantes, pois a soma das frequências acima é $1000$."
   ]
  },
  {
   "cell_type": "markdown",
   "id": "eeec2d90",
   "metadata": {},
   "source": [
    "### Saving account"
   ]
  },
  {
   "cell_type": "markdown",
   "id": "c493a079",
   "metadata": {},
   "source": [
    "Pela descrição em `dataset_description.txt` e no resumo do dataframe, podemos ver que é um dado do tipo texto."
   ]
  },
  {
   "cell_type": "code",
   "execution_count": 221,
   "id": "85dc1c41",
   "metadata": {},
   "outputs": [
    {
     "data": {
      "text/plain": [
       "Saving accounts\n",
       "little        603\n",
       "moderate      103\n",
       "quite rich     63\n",
       "rich           48\n",
       "NaN           183\n",
       "Name: count, dtype: int64"
      ]
     },
     "execution_count": 221,
     "metadata": {},
     "output_type": "execute_result"
    }
   ],
   "source": [
    "df['Saving accounts'].value_counts(dropna=False).sort_index()"
   ]
  },
  {
   "cell_type": "markdown",
   "id": "21a32a04",
   "metadata": {},
   "source": [
    "Temos um atributo do tipo **qualitativo ordinal** e que apresenta valores faltantes, 183 registros não apresentam valor para este atributo."
   ]
  },
  {
   "cell_type": "markdown",
   "id": "66351f92",
   "metadata": {},
   "source": [
    "### Checking Account"
   ]
  },
  {
   "cell_type": "markdown",
   "id": "111cf953",
   "metadata": {},
   "source": [
    "Como mencionado anteriormente, esse campo é dito como numérico em `dataset_description.txt`, mas no resumo do dataframe é dito como `object`. Irei investigar seus possíveis valores para entender melhor como esse atributo se classifica de fato."
   ]
  },
  {
   "cell_type": "code",
   "execution_count": 222,
   "id": "afa7e43b",
   "metadata": {},
   "outputs": [
    {
     "data": {
      "text/plain": [
       "Checking account\n",
       "little      274\n",
       "moderate    269\n",
       "rich         63\n",
       "NaN         394\n",
       "Name: count, dtype: int64"
      ]
     },
     "execution_count": 222,
     "metadata": {},
     "output_type": "execute_result"
    }
   ],
   "source": [
    "df['Checking account'].value_counts(dropna=False).sort_index()"
   ]
  },
  {
   "cell_type": "markdown",
   "id": "d926f725",
   "metadata": {},
   "source": [
    "Observando seus valores, podemos ver que é classificado como **qualitativo ordinal** e que há 394 valores faltantes."
   ]
  },
  {
   "cell_type": "markdown",
   "id": "64277cef",
   "metadata": {},
   "source": [
    "### Credit Amount"
   ]
  },
  {
   "cell_type": "markdown",
   "id": "8c51889e",
   "metadata": {},
   "source": [
    "Pela descrição em `dataset_description.txt` e no resumo do dataframe, podemos ver que é um dado do tipo numérico."
   ]
  },
  {
   "cell_type": "code",
   "execution_count": 223,
   "id": "a5b338db",
   "metadata": {},
   "outputs": [
    {
     "name": "stdout",
     "output_type": "stream",
     "text": [
      "\n",
      "--------- descrição estatística ---------\n",
      "count     1000.000000\n",
      "mean      3271.258000\n",
      "std       2822.736876\n",
      "min        250.000000\n",
      "25%       1365.500000\n",
      "50%       2319.500000\n",
      "75%       3972.250000\n",
      "max      18424.000000\n",
      "Name: Credit amount, dtype: float64\n",
      "\n",
      "--------- valores faltantes ---------\n",
      "Empty DataFrame\n",
      "Columns: [Age, Sex, Job, Housing, Saving accounts, Checking account, Credit amount, Duration, Purpose, Risk]\n",
      "Index: []\n"
     ]
    }
   ],
   "source": [
    "print('\\n--------- descrição estatística ---------')\n",
    "print(df['Credit amount'].describe())\n",
    "print('\\n--------- valores faltantes ---------')\n",
    "print(df[df['Credit amount'].isnull()])"
   ]
  },
  {
   "cell_type": "markdown",
   "id": "6c00bc41",
   "metadata": {},
   "source": [
    "E pelo resumo acima pode-se ver que esse atributo é **quantitativo racional** e não tem valores faltantes."
   ]
  },
  {
   "cell_type": "markdown",
   "id": "35845857",
   "metadata": {},
   "source": [
    "### Duration"
   ]
  },
  {
   "cell_type": "markdown",
   "id": "78d4b174",
   "metadata": {},
   "source": [
    "Pela descrição em `dataset_description.txt` e no resumo do dataframe, podemos ver que é um dado do tipo numérico."
   ]
  },
  {
   "cell_type": "code",
   "execution_count": 224,
   "id": "67632a27",
   "metadata": {},
   "outputs": [
    {
     "name": "stdout",
     "output_type": "stream",
     "text": [
      "\n",
      "--------- descrição estatística ---------\n",
      "count    1000.000000\n",
      "mean       20.903000\n",
      "std        12.058814\n",
      "min         4.000000\n",
      "25%        12.000000\n",
      "50%        18.000000\n",
      "75%        24.000000\n",
      "max        72.000000\n",
      "Name: Duration, dtype: float64\n",
      "\n",
      "--------- valores faltantes ---------\n",
      "Empty DataFrame\n",
      "Columns: [Age, Sex, Job, Housing, Saving accounts, Checking account, Credit amount, Duration, Purpose, Risk]\n",
      "Index: []\n"
     ]
    }
   ],
   "source": [
    "print('\\n--------- descrição estatística ---------')\n",
    "print(df['Duration'].describe())\n",
    "print('\\n--------- valores faltantes ---------')\n",
    "print(df[df['Duration'].isnull()])"
   ]
  },
  {
   "cell_type": "markdown",
   "id": "7d76fb95",
   "metadata": {},
   "source": [
    "E pelo resumo acima pode-se ver que esse atributo é **quantitativo racional** e não tem valores faltantes."
   ]
  },
  {
   "cell_type": "markdown",
   "id": "945156b0",
   "metadata": {},
   "source": [
    "### Purpose"
   ]
  },
  {
   "cell_type": "markdown",
   "id": "b22306be",
   "metadata": {},
   "source": [
    "Pela descrição em `dataset_description.txt` e no resumo do dataframe, podemos ver que é um dado do tipo textual."
   ]
  },
  {
   "cell_type": "code",
   "execution_count": 225,
   "id": "379c2090",
   "metadata": {},
   "outputs": [
    {
     "data": {
      "text/plain": [
       "Purpose\n",
       "business                97\n",
       "car                    337\n",
       "domestic appliances     12\n",
       "education               59\n",
       "furniture/equipment    181\n",
       "radio/TV               280\n",
       "repairs                 22\n",
       "vacation/others         12\n",
       "Name: count, dtype: int64"
      ]
     },
     "execution_count": 225,
     "metadata": {},
     "output_type": "execute_result"
    }
   ],
   "source": [
    "df['Purpose'].value_counts(dropna=False).sort_index()"
   ]
  },
  {
   "cell_type": "markdown",
   "id": "c195fcfa",
   "metadata": {},
   "source": [
    "Pode-se ver que se classifica como **qualitativo nominal** e não há valores faltantes."
   ]
  },
  {
   "cell_type": "markdown",
   "id": "ef408d3d",
   "metadata": {},
   "source": [
    "### Risk"
   ]
  },
  {
   "cell_type": "markdown",
   "id": "068b2bfb",
   "metadata": {},
   "source": [
    "Por último, iremos avaliar a coluna que contém a informação que queremos que nosso modelo aprenda a inferir. Que diz se uma pessoa é boa (good) ou ruim (bad) com relação ao risco de crédito."
   ]
  },
  {
   "cell_type": "code",
   "execution_count": 226,
   "id": "1238150a",
   "metadata": {},
   "outputs": [
    {
     "data": {
      "text/plain": [
       "Risk\n",
       "bad     300\n",
       "good    700\n",
       "Name: count, dtype: int64"
      ]
     },
     "execution_count": 226,
     "metadata": {},
     "output_type": "execute_result"
    }
   ],
   "source": [
    "df['Risk'].value_counts(dropna=False).sort_index()"
   ]
  },
  {
   "cell_type": "markdown",
   "id": "51df001e",
   "metadata": {},
   "source": [
    "Percebemos que é **qualitativa ordinal**, uma variável binária, que não tem valores faltantes, mas que está desbalanceada. Isso é um detalhe a ser considerado na hora de treinar o modelo."
   ]
  },
  {
   "cell_type": "markdown",
   "id": "854ca7c2",
   "metadata": {},
   "source": [
    "### Resumo"
   ]
  },
  {
   "cell_type": "markdown",
   "id": "5162ef66",
   "metadata": {},
   "source": [
    "Segue abaixo um resumo dos atributos."
   ]
  },
  {
   "cell_type": "code",
   "execution_count": 227,
   "id": "5739de4e",
   "metadata": {},
   "outputs": [
    {
     "data": {
      "text/html": [
       "<div>\n",
       "<style scoped>\n",
       "    .dataframe tbody tr th:only-of-type {\n",
       "        vertical-align: middle;\n",
       "    }\n",
       "\n",
       "    .dataframe tbody tr th {\n",
       "        vertical-align: top;\n",
       "    }\n",
       "\n",
       "    .dataframe thead th {\n",
       "        text-align: right;\n",
       "    }\n",
       "</style>\n",
       "<table border=\"1\" class=\"dataframe\">\n",
       "  <thead>\n",
       "    <tr style=\"text-align: right;\">\n",
       "      <th></th>\n",
       "      <th>atributo</th>\n",
       "      <th>tipo</th>\n",
       "      <th>valores faltantes</th>\n",
       "      <th>outliers</th>\n",
       "      <th>cardinalidade</th>\n",
       "    </tr>\n",
       "  </thead>\n",
       "  <tbody>\n",
       "    <tr>\n",
       "      <th>0</th>\n",
       "      <td>Age</td>\n",
       "      <td>quantitativo racional</td>\n",
       "      <td>0</td>\n",
       "      <td>não</td>\n",
       "      <td>discreta</td>\n",
       "    </tr>\n",
       "    <tr>\n",
       "      <th>1</th>\n",
       "      <td>Sex</td>\n",
       "      <td>qualitativa nominal</td>\n",
       "      <td>0</td>\n",
       "      <td>n/a</td>\n",
       "      <td>discreta (binária)</td>\n",
       "    </tr>\n",
       "    <tr>\n",
       "      <th>2</th>\n",
       "      <td>Job</td>\n",
       "      <td>qualitativa ordinal</td>\n",
       "      <td>0</td>\n",
       "      <td>n/a</td>\n",
       "      <td>discreta</td>\n",
       "    </tr>\n",
       "    <tr>\n",
       "      <th>3</th>\n",
       "      <td>Housing</td>\n",
       "      <td>qualitativa nominal</td>\n",
       "      <td>0</td>\n",
       "      <td>n/a</td>\n",
       "      <td>discreta</td>\n",
       "    </tr>\n",
       "    <tr>\n",
       "      <th>4</th>\n",
       "      <td>Saving accounts</td>\n",
       "      <td>qualitativa ordinal</td>\n",
       "      <td>183</td>\n",
       "      <td>n/a</td>\n",
       "      <td>discreta</td>\n",
       "    </tr>\n",
       "    <tr>\n",
       "      <th>5</th>\n",
       "      <td>Checking account</td>\n",
       "      <td>qualitativa ordinal</td>\n",
       "      <td>394</td>\n",
       "      <td>n/a</td>\n",
       "      <td>discreta</td>\n",
       "    </tr>\n",
       "    <tr>\n",
       "      <th>6</th>\n",
       "      <td>Credit amount</td>\n",
       "      <td>quantitativo racional</td>\n",
       "      <td>0</td>\n",
       "      <td>não</td>\n",
       "      <td>contínua</td>\n",
       "    </tr>\n",
       "    <tr>\n",
       "      <th>7</th>\n",
       "      <td>Duration</td>\n",
       "      <td>quantitativo racional</td>\n",
       "      <td>0</td>\n",
       "      <td>não</td>\n",
       "      <td>discreta</td>\n",
       "    </tr>\n",
       "    <tr>\n",
       "      <th>8</th>\n",
       "      <td>Purpose</td>\n",
       "      <td>qualitativa nominal</td>\n",
       "      <td>0</td>\n",
       "      <td>n/a</td>\n",
       "      <td>discreta</td>\n",
       "    </tr>\n",
       "    <tr>\n",
       "      <th>9</th>\n",
       "      <td>Risk</td>\n",
       "      <td>qualitativa nominal</td>\n",
       "      <td>0</td>\n",
       "      <td>n/a</td>\n",
       "      <td>discreta (binária)</td>\n",
       "    </tr>\n",
       "  </tbody>\n",
       "</table>\n",
       "</div>"
      ],
      "text/plain": [
       "           atributo                   tipo  valores faltantes outliers  \\\n",
       "0               Age  quantitativo racional                  0      não   \n",
       "1               Sex    qualitativa nominal                  0      n/a   \n",
       "2               Job    qualitativa ordinal                  0      n/a   \n",
       "3           Housing    qualitativa nominal                  0      n/a   \n",
       "4   Saving accounts    qualitativa ordinal                183      n/a   \n",
       "5  Checking account    qualitativa ordinal                394      n/a   \n",
       "6     Credit amount  quantitativo racional                  0      não   \n",
       "7          Duration  quantitativo racional                  0      não   \n",
       "8           Purpose    qualitativa nominal                  0      n/a   \n",
       "9              Risk    qualitativa nominal                  0      n/a   \n",
       "\n",
       "        cardinalidade  \n",
       "0            discreta  \n",
       "1  discreta (binária)  \n",
       "2            discreta  \n",
       "3            discreta  \n",
       "4            discreta  \n",
       "5            discreta  \n",
       "6            contínua  \n",
       "7            discreta  \n",
       "8            discreta  \n",
       "9  discreta (binária)  "
      ]
     },
     "execution_count": 227,
     "metadata": {},
     "output_type": "execute_result"
    }
   ],
   "source": [
    "resumo_df = pd.DataFrame({\n",
    "    'atributo': ['Age', 'Sex', 'Job', 'Housing', 'Saving accounts',\n",
    "                 'Checking account', 'Credit amount', 'Duration', 'Purpose', 'Risk'],\n",
    "    'tipo': ['quantitativo racional', 'qualitativa nominal', 'qualitativa ordinal',\n",
    "             'qualitativa nominal', 'qualitativa ordinal', 'qualitativa ordinal',\n",
    "             'quantitativo racional', 'quantitativo racional', 'qualitativa nominal', 'qualitativa nominal'],\n",
    "    'valores faltantes': [0, 0, 0, 0, 183, 394, 0, 0, 0, 0],\n",
    "    'outliers': ['não', 'n/a', 'n/a', 'n/a', 'n/a', 'n/a', 'não', 'não', 'n/a', 'n/a'],\n",
    "    'cardinalidade': ['discreta', 'discreta (binária)', 'discreta', 'discreta',\n",
    "                      'discreta', 'discreta', 'contínua', 'discreta', 'discreta', 'discreta (binária)']\n",
    "})\n",
    "resumo_df"
   ]
  },
  {
   "cell_type": "markdown",
   "id": "31a09a88",
   "metadata": {},
   "source": [
    "## Avaliação da Árvore de Decisão"
   ]
  },
  {
   "cell_type": "markdown",
   "id": "08817107",
   "metadata": {},
   "source": [
    "## Definindo as funções a serem utilizadas"
   ]
  },
  {
   "cell_type": "markdown",
   "id": "f8ac9324",
   "metadata": {},
   "source": [
    "### Treinar uma árvore de decisão"
   ]
  },
  {
   "cell_type": "code",
   "execution_count": 228,
   "id": "0b60765a",
   "metadata": {},
   "outputs": [],
   "source": [
    "def trained_model(X_train, y_train, scorer, show_best_params=False, show_tree=False):\n",
    "    param_grid = {\n",
    "        'max_depth': [2, 4, 8, 16, 32, 64, None],\n",
    "        'min_samples_split': [2, 4, 8, 16, 32, 64],\n",
    "        'min_samples_leaf': [1, 2, 4, 8, 16, 32, 64]\n",
    "    }\n",
    "\n",
    "    grid_search = GridSearchCV(\n",
    "        DecisionTreeClassifier(random_state=42),\n",
    "        param_grid,\n",
    "        cv=5,  # 5-fold cross-validation\n",
    "        scoring=scorer,\n",
    "        n_jobs=-1\n",
    "    )\n",
    "\n",
    "    grid_search.fit(X_train, y_train)\n",
    "    \n",
    "    model = grid_search.best_estimator_\n",
    "\n",
    "    if show_best_params:\n",
    "        print('Melhores hiperparâmetros:', grid_search.best_params_)\n",
    "    \n",
    "    if show_tree:\n",
    "        tree.plot_tree(\n",
    "            model,\n",
    "            feature_names=X_train.columns,\n",
    "            class_names=['good', 'bad'],\n",
    "            filled = True\n",
    "        )\n",
    "        plt.show()\n",
    "\n",
    "    return model\n",
    "\n",
    "def predict_and_evaluate(model, X_test, y_test):\n",
    "    # Avaliação no conjunto de teste\n",
    "    y_pred = model.predict(X_test)\n",
    "\n",
    "    recall = recall_score(y_test, y_pred, pos_label='bad')\n",
    "    accuracy = accuracy_score(y_test, y_pred)\n",
    "    \n",
    "    print('Relatório:')\n",
    "    print(f'recall (bad): {recall:.2f}')\n",
    "    print(f'accuracy: {accuracy:.2f}')\n",
    "\n",
    "    cm = confusion_matrix(y_test, y_pred, labels=['good', 'bad'])\n",
    "    plt.figure(figsize=(5,4))\n",
    "    plt.title('Matriz de Confusão')\n",
    "    sns.heatmap(cm, annot=True, fmt='d', cmap='Blues', xticklabels=['good', 'bad'], yticklabels=['good', 'bad'])\n",
    "    plt.xlabel('Predito')\n",
    "    plt.ylabel('Real')\n",
    "    plt.show()\n"
   ]
  },
  {
   "cell_type": "markdown",
   "id": "2be434eb",
   "metadata": {},
   "source": [
    "### Preparação mínima"
   ]
  },
  {
   "cell_type": "markdown",
   "id": "ae0c8c7f",
   "metadata": {},
   "source": [
    "A árvore de decisão exige uma preparação mínima dos atributos qualitativos. Os mesmo não podem ser textuais, devem ter uma representação numérica ou passível de conversão em tipo numérico. Farei essa preparação nos atributos (qualitativos) listados abaixo."
   ]
  },
  {
   "cell_type": "code",
   "execution_count": 229,
   "id": "1ca0243c",
   "metadata": {},
   "outputs": [
    {
     "data": {
      "text/html": [
       "<div>\n",
       "<style scoped>\n",
       "    .dataframe tbody tr th:only-of-type {\n",
       "        vertical-align: middle;\n",
       "    }\n",
       "\n",
       "    .dataframe tbody tr th {\n",
       "        vertical-align: top;\n",
       "    }\n",
       "\n",
       "    .dataframe thead th {\n",
       "        text-align: right;\n",
       "    }\n",
       "</style>\n",
       "<table border=\"1\" class=\"dataframe\">\n",
       "  <thead>\n",
       "    <tr style=\"text-align: right;\">\n",
       "      <th></th>\n",
       "      <th>atributo</th>\n",
       "      <th>tipo</th>\n",
       "      <th>valores faltantes</th>\n",
       "      <th>outliers</th>\n",
       "      <th>cardinalidade</th>\n",
       "    </tr>\n",
       "  </thead>\n",
       "  <tbody>\n",
       "    <tr>\n",
       "      <th>1</th>\n",
       "      <td>Sex</td>\n",
       "      <td>qualitativa nominal</td>\n",
       "      <td>0</td>\n",
       "      <td>n/a</td>\n",
       "      <td>discreta (binária)</td>\n",
       "    </tr>\n",
       "    <tr>\n",
       "      <th>2</th>\n",
       "      <td>Job</td>\n",
       "      <td>qualitativa ordinal</td>\n",
       "      <td>0</td>\n",
       "      <td>n/a</td>\n",
       "      <td>discreta</td>\n",
       "    </tr>\n",
       "    <tr>\n",
       "      <th>3</th>\n",
       "      <td>Housing</td>\n",
       "      <td>qualitativa nominal</td>\n",
       "      <td>0</td>\n",
       "      <td>n/a</td>\n",
       "      <td>discreta</td>\n",
       "    </tr>\n",
       "    <tr>\n",
       "      <th>4</th>\n",
       "      <td>Saving accounts</td>\n",
       "      <td>qualitativa ordinal</td>\n",
       "      <td>183</td>\n",
       "      <td>n/a</td>\n",
       "      <td>discreta</td>\n",
       "    </tr>\n",
       "    <tr>\n",
       "      <th>5</th>\n",
       "      <td>Checking account</td>\n",
       "      <td>qualitativa ordinal</td>\n",
       "      <td>394</td>\n",
       "      <td>n/a</td>\n",
       "      <td>discreta</td>\n",
       "    </tr>\n",
       "    <tr>\n",
       "      <th>8</th>\n",
       "      <td>Purpose</td>\n",
       "      <td>qualitativa nominal</td>\n",
       "      <td>0</td>\n",
       "      <td>n/a</td>\n",
       "      <td>discreta</td>\n",
       "    </tr>\n",
       "    <tr>\n",
       "      <th>9</th>\n",
       "      <td>Risk</td>\n",
       "      <td>qualitativa nominal</td>\n",
       "      <td>0</td>\n",
       "      <td>n/a</td>\n",
       "      <td>discreta (binária)</td>\n",
       "    </tr>\n",
       "  </tbody>\n",
       "</table>\n",
       "</div>"
      ],
      "text/plain": [
       "           atributo                 tipo  valores faltantes outliers  \\\n",
       "1               Sex  qualitativa nominal                  0      n/a   \n",
       "2               Job  qualitativa ordinal                  0      n/a   \n",
       "3           Housing  qualitativa nominal                  0      n/a   \n",
       "4   Saving accounts  qualitativa ordinal                183      n/a   \n",
       "5  Checking account  qualitativa ordinal                394      n/a   \n",
       "8           Purpose  qualitativa nominal                  0      n/a   \n",
       "9              Risk  qualitativa nominal                  0      n/a   \n",
       "\n",
       "        cardinalidade  \n",
       "1  discreta (binária)  \n",
       "2            discreta  \n",
       "3            discreta  \n",
       "4            discreta  \n",
       "5            discreta  \n",
       "8            discreta  \n",
       "9  discreta (binária)  "
      ]
     },
     "execution_count": 229,
     "metadata": {},
     "output_type": "execute_result"
    }
   ],
   "source": [
    "resumo_df[resumo_df['tipo'].str.contains('qualitativa')]"
   ]
  },
  {
   "cell_type": "markdown",
   "id": "02d16be2",
   "metadata": {},
   "source": [
    "### Funções de preparação dos dados"
   ]
  },
  {
   "cell_type": "code",
   "execution_count": null,
   "id": "b5430d29",
   "metadata": {},
   "outputs": [
    {
     "data": {
      "text/html": [
       "<div>\n",
       "<style scoped>\n",
       "    .dataframe tbody tr th:only-of-type {\n",
       "        vertical-align: middle;\n",
       "    }\n",
       "\n",
       "    .dataframe tbody tr th {\n",
       "        vertical-align: top;\n",
       "    }\n",
       "\n",
       "    .dataframe thead th {\n",
       "        text-align: right;\n",
       "    }\n",
       "</style>\n",
       "<table border=\"1\" class=\"dataframe\">\n",
       "  <thead>\n",
       "    <tr style=\"text-align: right;\">\n",
       "      <th></th>\n",
       "      <th>Age</th>\n",
       "      <th>Sex</th>\n",
       "      <th>Job</th>\n",
       "      <th>Saving accounts</th>\n",
       "      <th>Checking account</th>\n",
       "      <th>Credit amount</th>\n",
       "      <th>Duration</th>\n",
       "      <th>Risk</th>\n",
       "      <th>free</th>\n",
       "      <th>own</th>\n",
       "      <th>rent</th>\n",
       "      <th>business</th>\n",
       "      <th>car</th>\n",
       "      <th>domestic appliances</th>\n",
       "      <th>education</th>\n",
       "      <th>furniture/equipment</th>\n",
       "      <th>radio/TV</th>\n",
       "      <th>repairs</th>\n",
       "      <th>vacation/others</th>\n",
       "    </tr>\n",
       "  </thead>\n",
       "  <tbody>\n",
       "    <tr>\n",
       "      <th>0</th>\n",
       "      <td>67</td>\n",
       "      <td>False</td>\n",
       "      <td>2</td>\n",
       "      <td>NaN</td>\n",
       "      <td>0</td>\n",
       "      <td>1169</td>\n",
       "      <td>6</td>\n",
       "      <td>good</td>\n",
       "      <td>False</td>\n",
       "      <td>True</td>\n",
       "      <td>False</td>\n",
       "      <td>False</td>\n",
       "      <td>False</td>\n",
       "      <td>False</td>\n",
       "      <td>False</td>\n",
       "      <td>False</td>\n",
       "      <td>True</td>\n",
       "      <td>False</td>\n",
       "      <td>False</td>\n",
       "    </tr>\n",
       "    <tr>\n",
       "      <th>1</th>\n",
       "      <td>22</td>\n",
       "      <td>True</td>\n",
       "      <td>2</td>\n",
       "      <td>0</td>\n",
       "      <td>1</td>\n",
       "      <td>5951</td>\n",
       "      <td>48</td>\n",
       "      <td>bad</td>\n",
       "      <td>False</td>\n",
       "      <td>True</td>\n",
       "      <td>False</td>\n",
       "      <td>False</td>\n",
       "      <td>False</td>\n",
       "      <td>False</td>\n",
       "      <td>False</td>\n",
       "      <td>False</td>\n",
       "      <td>True</td>\n",
       "      <td>False</td>\n",
       "      <td>False</td>\n",
       "    </tr>\n",
       "    <tr>\n",
       "      <th>2</th>\n",
       "      <td>49</td>\n",
       "      <td>False</td>\n",
       "      <td>1</td>\n",
       "      <td>0</td>\n",
       "      <td>NaN</td>\n",
       "      <td>2096</td>\n",
       "      <td>12</td>\n",
       "      <td>good</td>\n",
       "      <td>False</td>\n",
       "      <td>True</td>\n",
       "      <td>False</td>\n",
       "      <td>False</td>\n",
       "      <td>False</td>\n",
       "      <td>False</td>\n",
       "      <td>True</td>\n",
       "      <td>False</td>\n",
       "      <td>False</td>\n",
       "      <td>False</td>\n",
       "      <td>False</td>\n",
       "    </tr>\n",
       "    <tr>\n",
       "      <th>3</th>\n",
       "      <td>45</td>\n",
       "      <td>False</td>\n",
       "      <td>2</td>\n",
       "      <td>0</td>\n",
       "      <td>0</td>\n",
       "      <td>7882</td>\n",
       "      <td>42</td>\n",
       "      <td>good</td>\n",
       "      <td>True</td>\n",
       "      <td>False</td>\n",
       "      <td>False</td>\n",
       "      <td>False</td>\n",
       "      <td>False</td>\n",
       "      <td>False</td>\n",
       "      <td>False</td>\n",
       "      <td>True</td>\n",
       "      <td>False</td>\n",
       "      <td>False</td>\n",
       "      <td>False</td>\n",
       "    </tr>\n",
       "    <tr>\n",
       "      <th>4</th>\n",
       "      <td>53</td>\n",
       "      <td>False</td>\n",
       "      <td>2</td>\n",
       "      <td>0</td>\n",
       "      <td>0</td>\n",
       "      <td>4870</td>\n",
       "      <td>24</td>\n",
       "      <td>bad</td>\n",
       "      <td>True</td>\n",
       "      <td>False</td>\n",
       "      <td>False</td>\n",
       "      <td>False</td>\n",
       "      <td>True</td>\n",
       "      <td>False</td>\n",
       "      <td>False</td>\n",
       "      <td>False</td>\n",
       "      <td>False</td>\n",
       "      <td>False</td>\n",
       "      <td>False</td>\n",
       "    </tr>\n",
       "  </tbody>\n",
       "</table>\n",
       "</div>"
      ],
      "text/plain": [
       "   Age    Sex  Job Saving accounts Checking account  Credit amount  Duration  \\\n",
       "0   67  False    2             NaN                0           1169         6   \n",
       "1   22   True    2               0                1           5951        48   \n",
       "2   49  False    1               0              NaN           2096        12   \n",
       "3   45  False    2               0                0           7882        42   \n",
       "4   53  False    2               0                0           4870        24   \n",
       "\n",
       "   Risk   free    own   rent  business    car  domestic appliances  education  \\\n",
       "0  good  False   True  False     False  False                False      False   \n",
       "1   bad  False   True  False     False  False                False      False   \n",
       "2  good  False   True  False     False  False                False       True   \n",
       "3  good   True  False  False     False  False                False      False   \n",
       "4   bad   True  False  False     False   True                False      False   \n",
       "\n",
       "   furniture/equipment  radio/TV  repairs  vacation/others  \n",
       "0                False      True    False            False  \n",
       "1                False      True    False            False  \n",
       "2                False     False    False            False  \n",
       "3                 True     False    False            False  \n",
       "4                False     False    False            False  "
      ]
     },
     "execution_count": 230,
     "metadata": {},
     "output_type": "execute_result"
    }
   ],
   "source": [
    "def prepare_sex(df):\n",
    "    df_preparado = df.copy()\n",
    "    df_preparado.loc[df_preparado['Sex'] == 'male', 'Sex'] = False\n",
    "    df_preparado.loc[df_preparado['Sex'] == 'female', 'Sex'] = True\n",
    "    df_preparado['Sex'] = df_preparado['Sex'].astype(bool)\n",
    "    return df_preparado\n",
    "\n",
    "# Job -> Ja esta representado com numeros da forma correta\n",
    "\n",
    "def prepare_housing(df):\n",
    "    df_preparado = df.copy()\n",
    "    dummies = pd.get_dummies(df_preparado['Housing'])\n",
    "    df_preparado = pd.concat([df_preparado, dummies], axis=1)\n",
    "    df_preparado = df_preparado.drop('Housing', axis=1)\n",
    "    return df_preparado\n",
    "\n",
    "def prepare_saving_accounts(df):\n",
    "    # 0 = little, 1 = moderate, 2 = quite rich, 3 = rich\n",
    "    df_preparado = df.copy()\n",
    "    df_preparado.loc[df_preparado['Saving accounts'] == 'little', 'Saving accounts'] = 0\n",
    "    df_preparado.loc[df_preparado['Saving accounts'] == 'moderate', 'Saving accounts'] = 1\n",
    "    df_preparado.loc[df_preparado['Saving accounts'] == 'quite rich', 'Saving accounts'] = 2\n",
    "    df_preparado.loc[df_preparado['Saving accounts'] == 'rich', 'Saving accounts'] = 3\n",
    "    return df_preparado\n",
    "\n",
    "def prepare_checking_account(df):\n",
    "    # 0 = little, 1 = moderate, 2 = rich\n",
    "    df_preparado = df.copy()\n",
    "    df_preparado.loc[df_preparado['Checking account'] == 'little', 'Checking account'] = 0\n",
    "    df_preparado.loc[df_preparado['Checking account'] == 'moderate', 'Checking account'] = 1\n",
    "    df_preparado.loc[df_preparado['Checking account'] == 'rich', 'Checking account'] = 2\n",
    "    return df_preparado\n",
    "\n",
    "def prepare_purpose(df):\n",
    "    df_preparado = df.copy()\n",
    "    dummies = pd.get_dummies(df_preparado['Purpose'])\n",
    "    df_preparado = pd.concat([df_preparado, dummies], axis=1)\n",
    "    df_preparado = df_preparado.drop('Purpose', axis=1)\n",
    "    return df_preparado\n",
    "\n",
    "def prepare_all(df_preparado):\n",
    "    df_preparado = prepare_sex(df_preparado)\n",
    "    df_preparado = prepare_housing(df_preparado)\n",
    "    df_preparado = prepare_saving_accounts(df_preparado)\n",
    "    df_preparado = prepare_checking_account(df_preparado)\n",
    "    df_preparado = prepare_purpose(df_preparado)\n",
    "    return df_preparado\n",
    "\n",
    "df_preparado = prepare_all(df.copy())\n",
    "df_preparado.head()"
   ]
  },
  {
   "cell_type": "markdown",
   "id": "dcc885ea",
   "metadata": {},
   "source": [
    "### Avaliação"
   ]
  },
  {
   "cell_type": "markdown",
   "id": "1b9b9dbb",
   "metadata": {},
   "source": [
    "Quero que o modelo acerte mais na classificação de pessoas que são más (`bad`) devedoras. Isso para garantir que o modelo não diga que uma pessoa é boa devedora, i.e., pagará seu empréstimo, quando a pessoa não é e não pagará. Dessa forma, diminui as chances de sair no prejuízo.\n",
    "Claro que não posso deixar de observar também a classificação dos bons (`good`) devedores, pois se o modelo os classifica errado, é dinheiro que deixa de entrar."
   ]
  },
  {
   "cell_type": "markdown",
   "id": "73d2866a",
   "metadata": {},
   "source": [
    "### Sem Tratamento dos Dados"
   ]
  },
  {
   "cell_type": "code",
   "execution_count": null,
   "id": "c079ee18",
   "metadata": {},
   "outputs": [
    {
     "data": {
      "image/png": "[encoded data removed]",
      "text/plain": [
       "<Figure size 640x480 with 1 Axes>"
      ]
     },
     "metadata": {},
     "output_type": "display_data"
    },
    {
     "name": "stdout",
     "output_type": "stream",
     "text": [
      "Relatório:\n",
      "recall (bad): 0.50\n",
      "accuracy: 0.65\n"
     ]
    },
    {
     "data": {
      "image/png": "[encoded data removed]",
      "text/plain": [
       "<Figure size 500x400 with 2 Axes>"
      ]
     },
     "metadata": {},
     "output_type": "display_data"
    }
   ],
   "source": [
    "def execute_experiment(df, show_best_params=False, show_tree=False):\n",
    "    X = df.drop('Risk', axis=1)\n",
    "    y = df['Risk']\n",
    "\n",
    "    X_train, X_test, y_train, y_test = train_test_split(\n",
    "        X, y, test_size=0.2, random_state=42, stratify=y\n",
    "    )\n",
    "\n",
    "    scorer = make_scorer(recall_score, pos_label='bad')\n",
    "\n",
    "    model = trained_model(\n",
    "        X_train,\n",
    "        y_train,\n",
    "        scorer,\n",
    "        show_best_params=show_best_params,\n",
    "        show_tree=show_tree\n",
    "    )\n",
    "    predict_and_evaluate(model, X_test, y_test)\n",
    "\n",
    "df_preparado = prepare_all(df.copy())\n",
    "execute_experiment(df_preparado, show_tree=True)"
   ]
  },
  {
   "cell_type": "markdown",
   "id": "4803af6b",
   "metadata": {},
   "source": [
    "Sem tratamento de dados, temos um `recall` de $0.5$ e `accuracy` de $0.65$. Não foi um resultado promissor, mas sinto que pode melhorar."
   ]
  },
  {
   "cell_type": "markdown",
   "id": "bca8db3e",
   "metadata": {},
   "source": [
    "### Limpando os Dados"
   ]
  },
  {
   "cell_type": "markdown",
   "id": "e1c28140",
   "metadata": {},
   "source": [
    "Como não há *outliers* nessa base, não preciso me preocupar com o tratamento desse tipo de problema. Mas há $183$ valores faltantes para `Saving accounts` e $394$ para `Checking account`."
   ]
  },
  {
   "cell_type": "markdown",
   "id": "f01af34d",
   "metadata": {},
   "source": [
    "#### Removendo Linhas"
   ]
  },
  {
   "cell_type": "markdown",
   "id": "a710f92c",
   "metadata": {},
   "source": [
    "Pela base de dados ter poucos registros ($1000$), acredito que seguir pela estratégia de remoção de linhas irá mais atrapalhar o modelo do que ajudar, mas não custa fazer a avaliação. Para isso, irei avaliar dois pontos que me preocupam:\n",
    "\n",
    "1. Quantos registros terei da base se remover registros com valores faltantes?\n",
    "2. A proporcionalidade entre as classes de `Risk` se manterá?\n",
    "\n",
    "Farei a avaliação desses dois pontos para os seguintes cenários:\n",
    "1. Removendo o atributo `Saving accounts`\n",
    "2. Removendo o atributo `Checking account`\n",
    "3. Removendo ambos."
   ]
  },
  {
   "cell_type": "code",
   "execution_count": 232,
   "id": "4436ef98",
   "metadata": {},
   "outputs": [
    {
     "data": {
      "image/png": "[encoded data removed]",
      "text/plain": [
       "<Figure size 640x480 with 1 Axes>"
      ]
     },
     "metadata": {},
     "output_type": "display_data"
    }
   ],
   "source": [
    "total = len(df)\n",
    "risk_good = len(df[df['Risk'] == 'good'])\n",
    "risk_bad = len(df[df['Risk'] == 'bad'])\n",
    "\n",
    "df_sem_saving = df.dropna(subset=['Saving accounts'])\n",
    "risk_good_sem_saving = len(df_sem_saving[df_sem_saving['Risk'] == 'good'])\n",
    "risk_bad_sem_saving = len(df_sem_saving[df_sem_saving['Risk'] == 'bad'])\n",
    "\n",
    "df_sem_checking = df.dropna(subset=['Checking account'])\n",
    "risk_good_sem_checking = len(df_sem_checking[df_sem_checking['Risk'] == 'good'])\n",
    "risk_bad_sem_cheking = len(df_sem_checking[df_sem_checking['Risk'] == 'bad'])\n",
    "\n",
    "df_sem_ambos = df.dropna(subset=['Saving accounts', 'Checking account'])\n",
    "risk_good_sem_ambos = len(df_sem_ambos[df_sem_ambos['Risk'] == 'good'])\n",
    "risk_bad_sem_ambos = len(df_sem_ambos[df_sem_ambos['Risk'] == 'bad'])\n",
    "\n",
    "rotulos = ('Base Original', 'Cenário 1', 'Cenário 2', 'Cenário 3')\n",
    "risks = {\n",
    "    'good': [risk_good, risk_good_sem_saving, risk_good_sem_checking, risk_good_sem_ambos],\n",
    "    'bad': [risk_bad, risk_bad_sem_saving, risk_bad_sem_cheking, risk_bad_sem_ambos]\n",
    "}\n",
    "\n",
    "fig, ax = plt.subplots()\n",
    "ax.set_ylim(0, 1200)\n",
    "\n",
    "bottom = np.zeros(4)\n",
    "\n",
    "for risk, values in risks.items():\n",
    "    p = ax.bar(rotulos, values, label=risk, bottom=bottom)\n",
    "    bottom += values\n",
    "    ax.bar_label(p, label_type='center')\n",
    "\n",
    "for idx, total in enumerate(bottom):\n",
    "    ax.text(idx, total + 60, f'{int(total)} registros', ha='center', va='bottom')\n",
    "    good_percentage = (risks['good'][idx] / total) * 100\n",
    "    bad_percentage = (risks['bad'][idx] / total) * 100\n",
    "    ax.text(idx, total + 10, f'{good_percentage:.2f}% : {bad_percentage:.2f}%', ha='center', va='bottom',)\n",
    "\n",
    "ax.set_title('Exclusão de linhas com valores faltantes')\n",
    "ax.legend()\n",
    "\n",
    "plt.show()"
   ]
  },
  {
   "cell_type": "markdown",
   "id": "97c9a2ef",
   "metadata": {},
   "source": [
    "Como podemos perceber, para cada estratégia, ficamos com cada vez menos registros e a razão entre os valores do atributo `Risk` também altera consideravelmente. A única estratégia que talvez ajude será a do cenário 1, removendo os registros nulos para o atributo `Saving accounts`. Escrevo isso com bastante desconfiança, pois ainda acredito não ser uma boa estratégia, mas irei avaliá-la para ter certeza."
   ]
  },
  {
   "cell_type": "markdown",
   "id": "e8ea8d06",
   "metadata": {},
   "source": [
    "#### Cenário 1 - Sem `Saving accounts`"
   ]
  },
  {
   "cell_type": "code",
   "execution_count": null,
   "id": "a42b30bf",
   "metadata": {},
   "outputs": [
    {
     "data": {
      "image/png": "[encoded data removed]",
      "text/plain": [
       "<Figure size 640x480 with 1 Axes>"
      ]
     },
     "metadata": {},
     "output_type": "display_data"
    },
    {
     "name": "stdout",
     "output_type": "stream",
     "text": [
      "Relatório:\n",
      "recall (bad): 0.56\n",
      "accuracy: 0.72\n"
     ]
    },
    {
     "data": {
      "image/png": "[encoded data removed]",
      "text/plain": [
       "<Figure size 500x400 with 2 Axes>"
      ]
     },
     "metadata": {},
     "output_type": "display_data"
    }
   ],
   "source": [
    "df_preparado = prepare_all(df.copy())\n",
    "df_cleaned = df_preparado.dropna(subset=['Saving accounts'])\n",
    "execute_experiment(df_cleaned, show_tree=True)"
   ]
  },
  {
   "cell_type": "markdown",
   "id": "aba69e21",
   "metadata": {},
   "source": [
    "Até que remover a coluna `Saving accounts`, ao contrário do que eu esperava, melhorou o modelo. Tanto pelo `recall` quanto pela acurácia (`accuracy`). Contudo, não irei avaliar para os demais cenários mencionados acima pelos fatores mencionados: diminuem consideravelmente a quantidade de dados e alteram a proporção das classes: `good` e `bad`."
   ]
  },
  {
   "cell_type": "markdown",
   "id": "19b935ab",
   "metadata": {},
   "source": [
    "#### Missing - Moda"
   ]
  },
  {
   "cell_type": "markdown",
   "id": "c59aced8",
   "metadata": {},
   "source": [
    "A estratégia que irei experimentar agora será de atribuir o valor da moda aos valores faltantes. Considerando, é claro, a proporção entre as diferentes classes: `good` e `bad`."
   ]
  },
  {
   "cell_type": "code",
   "execution_count": null,
   "id": "96c85ca1",
   "metadata": {},
   "outputs": [
    {
     "name": "stderr",
     "output_type": "stream",
     "text": [
      "/tmp/ipykernel_1519998/2571373263.py:11: FutureWarning: Downcasting object dtype arrays on .fillna, .ffill, .bfill is deprecated and will change in a future version. Call result.infer_objects(copy=False) instead. To opt-in to the future behavior, set `pd.set_option('future.no_silent_downcasting', True)`\n",
      "  df.loc[goods_filter, column] = df.loc[goods_filter, column].fillna(good_mode)\n",
      "/tmp/ipykernel_1519998/2571373263.py:12: FutureWarning: Downcasting object dtype arrays on .fillna, .ffill, .bfill is deprecated and will change in a future version. Call result.infer_objects(copy=False) instead. To opt-in to the future behavior, set `pd.set_option('future.no_silent_downcasting', True)`\n",
      "  df.loc[bads_filter, column] = df.loc[bads_filter, column].fillna(bad_mode)\n",
      "/tmp/ipykernel_1519998/2571373263.py:11: FutureWarning: Downcasting object dtype arrays on .fillna, .ffill, .bfill is deprecated and will change in a future version. Call result.infer_objects(copy=False) instead. To opt-in to the future behavior, set `pd.set_option('future.no_silent_downcasting', True)`\n",
      "  df.loc[goods_filter, column] = df.loc[goods_filter, column].fillna(good_mode)\n",
      "/tmp/ipykernel_1519998/2571373263.py:12: FutureWarning: Downcasting object dtype arrays on .fillna, .ffill, .bfill is deprecated and will change in a future version. Call result.infer_objects(copy=False) instead. To opt-in to the future behavior, set `pd.set_option('future.no_silent_downcasting', True)`\n",
      "  df.loc[bads_filter, column] = df.loc[bads_filter, column].fillna(bad_mode)\n"
     ]
    },
    {
     "data": {
      "image/png": "[encoded data removed]",
      "text/plain": [
       "<Figure size 640x480 with 1 Axes>"
      ]
     },
     "metadata": {},
     "output_type": "display_data"
    },
    {
     "name": "stdout",
     "output_type": "stream",
     "text": [
      "Relatório:\n",
      "recall (bad): 0.63\n",
      "accuracy: 0.79\n"
     ]
    },
    {
     "data": {
      "image/png": "[encoded data removed]",
      "text/plain": [
       "<Figure size 500x400 with 2 Axes>"
      ]
     },
     "metadata": {},
     "output_type": "display_data"
    }
   ],
   "source": [
    "def fill_with_mode(df, column):\n",
    "    goods_filter = df['Risk'] == 'good'\n",
    "    bads_filter = df['Risk'] == 'bad'\n",
    "\n",
    "    goods = df[goods_filter]\n",
    "    bads = df[bads_filter]\n",
    "\n",
    "    good_mode = goods[column].mode()[0]\n",
    "    bad_mode = bads[column].mode()[0]\n",
    "\n",
    "    df.loc[goods_filter, column] = df.loc[goods_filter, column].fillna(good_mode)\n",
    "    df.loc[bads_filter, column] = df.loc[bads_filter, column].fillna(bad_mode)\n",
    "    \n",
    "    return df\n",
    "\n",
    "df_mode_filled = prepare_all(df.copy())\n",
    "df_mode_filled = fill_with_mode(df_mode_filled, 'Saving accounts')\n",
    "df_mode_filled = fill_with_mode(df_mode_filled, 'Checking account')\n",
    "\n",
    "execute_experiment(df_mode_filled, show_tree=True)"
   ]
  },
  {
   "cell_type": "markdown",
   "id": "01b4f5a4",
   "metadata": {},
   "source": [
    "Com esse tratamento, o modelo melhorou consideravelmente, tendo aumentado o `recall` para $0.63$ e a acurácia para $0.79$. Além disso, é perceptível, também, como a profuncidade e densidade da árvore mudaram e com isso ela ficou mais simples. Tornando o uso do modelo mais rápido, além de melhor (pelo menos em comparação com os casos anteriores).\n",
    "\n",
    "Me dou por satisfeito com esse resultado após a limpeza dos dados."
   ]
  },
  {
   "cell_type": "markdown",
   "id": "4e85375a",
   "metadata": {},
   "source": [
    "# Exercício 2"
   ]
  },
  {
   "cell_type": "markdown",
   "id": "0843159e",
   "metadata": {},
   "source": [
    "Faça uma análise de seleção de variáveis utilizando os métodos que julgar necessários, considerando o tipo de dado. Abaixo uma tabela é indicada para que possa usar como inspiração avaliação de importância composta dos métodos que considerar. "
   ]
  },
  {
   "cell_type": "markdown",
   "id": "e6516505",
   "metadata": {},
   "source": [
    "## Método 1 - Árvore de Decisão"
   ]
  },
  {
   "cell_type": "code",
   "execution_count": null,
   "id": "f3e692ab",
   "metadata": {},
   "outputs": [
    {
     "data": {
      "text/plain": [
       "Credit amount          0.195448\n",
       "Age                    0.189478\n",
       "Duration               0.155385\n",
       "Checking account       0.150071\n",
       "Saving accounts        0.060795\n",
       "Job                    0.042556\n",
       "car                    0.032372\n",
       "furniture/equipment    0.029035\n",
       "Sex                    0.026972\n",
       "radio/TV               0.025156\n",
       "own                    0.018321\n",
       "education              0.018052\n",
       "business               0.013373\n",
       "rent                   0.012579\n",
       "repairs                0.010924\n",
       "free                   0.009959\n",
       "domestic appliances    0.005291\n",
       "vacation/others        0.004233\n",
       "dtype: float64"
      ]
     },
     "execution_count": 203,
     "metadata": {},
     "output_type": "execute_result"
    }
   ],
   "source": [
    "df_preparado = prepare_all(df.copy())\n",
    "\n",
    "X = df_preparado.drop('Risk', axis=1)\n",
    "y = df_preparado['Risk']\n",
    "\n",
    "X_train, X_test, y_train, y_test = train_test_split(\n",
    "    X, y, test_size=0.2, random_state=42, stratify=y\n",
    ")\n",
    "\n",
    "model = DecisionTreeClassifier(random_state=42)\n",
    "model.fit(X_train, y_train)\n",
    "tree_importances = pd.Series(model.feature_importances_, index=X.columns)\n",
    "tree_importances.sort_values(ascending=False)\n"
   ]
  },
  {
   "cell_type": "markdown",
   "id": "5db84781",
   "metadata": {},
   "source": [
    "## Método 2 - ANOVA"
   ]
  },
  {
   "cell_type": "code",
   "execution_count": null,
   "id": "f5991cd4",
   "metadata": {},
   "outputs": [
    {
     "data": {
      "text/plain": [
       "Duration               38.794960\n",
       "Credit amount          10.636884\n",
       "Saving accounts         9.207652\n",
       "Checking account        8.922135\n",
       "own                     6.505199\n",
       "rent                    5.108268\n",
       "Sex                     4.150256\n",
       "education               2.691121\n",
       "repairs                 1.826396\n",
       "radio/TV                1.297288\n",
       "Age                     1.235157\n",
       "car                     1.122064\n",
       "free                    0.795872\n",
       "vacation/others         0.717230\n",
       "Job                     0.666234\n",
       "domestic appliances     0.077968\n",
       "furniture/equipment     0.041039\n",
       "business                0.016375\n",
       "dtype: float64"
      ]
     },
     "execution_count": 208,
     "metadata": {},
     "output_type": "execute_result"
    }
   ],
   "source": [
    "df_preparado = prepare_all(df.copy())\n",
    "\n",
    "df_preparado.dropna(inplace=True)\n",
    "\n",
    "X = df_preparado.drop('Risk', axis=1)\n",
    "y = df_preparado['Risk']\n",
    "\n",
    "X_train, X_test, y_train, y_test = train_test_split(\n",
    "    X, y, test_size=0.2, random_state=42, stratify=y\n",
    ")\n",
    "\n",
    "anova_selector = SelectKBest(score_func=f_classif, k='all')\n",
    "anova_selector.fit(X_train, y_train)\n",
    "anova_scores = pd.Series(anova_selector.scores_, index=X.columns)\n",
    "anova_scores.sort_values(ascending=False)"
   ]
  },
  {
   "cell_type": "markdown",
   "id": "d4662725",
   "metadata": {},
   "source": [
    "## Qui-quadrado ($\\chi^2$)"
   ]
  },
  {
   "cell_type": "code",
   "execution_count": null,
   "id": "2a1b82d0",
   "metadata": {},
   "outputs": [
    {
     "data": {
      "text/plain": [
       "Credit amount          27156.692405\n",
       "Duration                 262.452894\n",
       "Saving accounts           15.568178\n",
       "Checking account           6.117038\n",
       "Age                        5.123471\n",
       "rent                       4.109880\n",
       "Sex                        2.782348\n",
       "education                  2.538483\n",
       "own                        2.052624\n",
       "repairs                    1.787721\n",
       "radio/TV                   0.990968\n",
       "car                        0.736138\n",
       "vacation/others            0.707366\n",
       "free                       0.694816\n",
       "Job                        0.165251\n",
       "domestic appliances        0.077202\n",
       "furniture/equipment        0.033026\n",
       "business                   0.014638\n",
       "dtype: float64"
      ]
     },
     "execution_count": 210,
     "metadata": {},
     "output_type": "execute_result"
    }
   ],
   "source": [
    "df_preparado = prepare_all(df.copy())\n",
    "\n",
    "df_preparado.dropna(inplace=True)\n",
    "\n",
    "X = df_preparado.drop('Risk', axis=1)\n",
    "y = df_preparado['Risk']\n",
    "\n",
    "X_train, X_test, y_train, y_test = train_test_split(\n",
    "    X, y, test_size=0.2, random_state=42, stratify=y\n",
    ")\n",
    "\n",
    "chi2_selector = SelectKBest(score_func=chi2, k='all')\n",
    "chi2_selector.fit(X_train, y_train)\n",
    "chi2_scores = pd.Series(chi2_selector.scores_, index=X.columns)\n",
    "chi2_scores.sort_values(ascending=False)\n"
   ]
  },
  {
   "cell_type": "code",
   "execution_count": null,
   "id": "90befd0d",
   "metadata": {},
   "outputs": [],
   "source": [
    "ranking_df = pd.DataFrame({\n",
    "    'Decision Tree': tree_importances,\n",
    "    'ANOVA': anova_scores,\n",
    "    'Chi2': chi2_scores\n",
    "})\n",
    "\n",
    "ranking_df_ranked = ranking_df.rank(ascending=False)\n",
    "ranking_df_ranked = ranking_df_ranked.sort_values(by=['Decision Tree', 'ANOVA', 'Chi2'], ascending=True)"
   ]
  },
  {
   "cell_type": "markdown",
   "id": "e305951e",
   "metadata": {},
   "source": [
    "Após a execução dos seletores acima, temos as seguintes importâncias dos atributos com base em cada seletor."
   ]
  },
  {
   "cell_type": "code",
   "execution_count": 237,
   "id": "4a2ba744",
   "metadata": {},
   "outputs": [
    {
     "data": {
      "text/html": [
       "<div>\n",
       "<style scoped>\n",
       "    .dataframe tbody tr th:only-of-type {\n",
       "        vertical-align: middle;\n",
       "    }\n",
       "\n",
       "    .dataframe tbody tr th {\n",
       "        vertical-align: top;\n",
       "    }\n",
       "\n",
       "    .dataframe thead th {\n",
       "        text-align: right;\n",
       "    }\n",
       "</style>\n",
       "<table border=\"1\" class=\"dataframe\">\n",
       "  <thead>\n",
       "    <tr style=\"text-align: right;\">\n",
       "      <th></th>\n",
       "      <th>Decision Tree</th>\n",
       "      <th>ANOVA</th>\n",
       "      <th>Chi2</th>\n",
       "    </tr>\n",
       "  </thead>\n",
       "  <tbody>\n",
       "    <tr>\n",
       "      <th>Credit amount</th>\n",
       "      <td>1.0</td>\n",
       "      <td>2.0</td>\n",
       "      <td>1.0</td>\n",
       "    </tr>\n",
       "    <tr>\n",
       "      <th>Age</th>\n",
       "      <td>2.0</td>\n",
       "      <td>11.0</td>\n",
       "      <td>5.0</td>\n",
       "    </tr>\n",
       "    <tr>\n",
       "      <th>Duration</th>\n",
       "      <td>3.0</td>\n",
       "      <td>1.0</td>\n",
       "      <td>2.0</td>\n",
       "    </tr>\n",
       "    <tr>\n",
       "      <th>Checking account</th>\n",
       "      <td>4.0</td>\n",
       "      <td>4.0</td>\n",
       "      <td>4.0</td>\n",
       "    </tr>\n",
       "    <tr>\n",
       "      <th>Saving accounts</th>\n",
       "      <td>5.0</td>\n",
       "      <td>3.0</td>\n",
       "      <td>3.0</td>\n",
       "    </tr>\n",
       "    <tr>\n",
       "      <th>Job</th>\n",
       "      <td>6.0</td>\n",
       "      <td>15.0</td>\n",
       "      <td>15.0</td>\n",
       "    </tr>\n",
       "    <tr>\n",
       "      <th>car</th>\n",
       "      <td>7.0</td>\n",
       "      <td>12.0</td>\n",
       "      <td>12.0</td>\n",
       "    </tr>\n",
       "    <tr>\n",
       "      <th>furniture/equipment</th>\n",
       "      <td>8.0</td>\n",
       "      <td>17.0</td>\n",
       "      <td>17.0</td>\n",
       "    </tr>\n",
       "    <tr>\n",
       "      <th>Sex</th>\n",
       "      <td>9.0</td>\n",
       "      <td>7.0</td>\n",
       "      <td>7.0</td>\n",
       "    </tr>\n",
       "    <tr>\n",
       "      <th>radio/TV</th>\n",
       "      <td>10.0</td>\n",
       "      <td>10.0</td>\n",
       "      <td>11.0</td>\n",
       "    </tr>\n",
       "    <tr>\n",
       "      <th>own</th>\n",
       "      <td>11.0</td>\n",
       "      <td>5.0</td>\n",
       "      <td>9.0</td>\n",
       "    </tr>\n",
       "    <tr>\n",
       "      <th>education</th>\n",
       "      <td>12.0</td>\n",
       "      <td>8.0</td>\n",
       "      <td>8.0</td>\n",
       "    </tr>\n",
       "    <tr>\n",
       "      <th>business</th>\n",
       "      <td>13.0</td>\n",
       "      <td>18.0</td>\n",
       "      <td>18.0</td>\n",
       "    </tr>\n",
       "    <tr>\n",
       "      <th>rent</th>\n",
       "      <td>14.0</td>\n",
       "      <td>6.0</td>\n",
       "      <td>6.0</td>\n",
       "    </tr>\n",
       "    <tr>\n",
       "      <th>repairs</th>\n",
       "      <td>15.0</td>\n",
       "      <td>9.0</td>\n",
       "      <td>10.0</td>\n",
       "    </tr>\n",
       "    <tr>\n",
       "      <th>free</th>\n",
       "      <td>16.0</td>\n",
       "      <td>13.0</td>\n",
       "      <td>14.0</td>\n",
       "    </tr>\n",
       "    <tr>\n",
       "      <th>domestic appliances</th>\n",
       "      <td>17.0</td>\n",
       "      <td>16.0</td>\n",
       "      <td>16.0</td>\n",
       "    </tr>\n",
       "    <tr>\n",
       "      <th>vacation/others</th>\n",
       "      <td>18.0</td>\n",
       "      <td>14.0</td>\n",
       "      <td>13.0</td>\n",
       "    </tr>\n",
       "  </tbody>\n",
       "</table>\n",
       "</div>"
      ],
      "text/plain": [
       "                     Decision Tree  ANOVA  Chi2\n",
       "Credit amount                  1.0    2.0   1.0\n",
       "Age                            2.0   11.0   5.0\n",
       "Duration                       3.0    1.0   2.0\n",
       "Checking account               4.0    4.0   4.0\n",
       "Saving accounts                5.0    3.0   3.0\n",
       "Job                            6.0   15.0  15.0\n",
       "car                            7.0   12.0  12.0\n",
       "furniture/equipment            8.0   17.0  17.0\n",
       "Sex                            9.0    7.0   7.0\n",
       "radio/TV                      10.0   10.0  11.0\n",
       "own                           11.0    5.0   9.0\n",
       "education                     12.0    8.0   8.0\n",
       "business                      13.0   18.0  18.0\n",
       "rent                          14.0    6.0   6.0\n",
       "repairs                       15.0    9.0  10.0\n",
       "free                          16.0   13.0  14.0\n",
       "domestic appliances           17.0   16.0  16.0\n",
       "vacation/others               18.0   14.0  13.0"
      ]
     },
     "execution_count": 237,
     "metadata": {},
     "output_type": "execute_result"
    }
   ],
   "source": [
    "ranking_df_ranked"
   ]
  },
  {
   "cell_type": "markdown",
   "id": "c6c43ba1",
   "metadata": {},
   "source": [
    "Avaliando a tabela acima, podemos ver a importância de cada atributo e selecionar apenas as ($n$) primeiras $^1$ para treinamento e execução de algum modelo de *machine learning*. Isso para que consideremos apenas os atributos que são, de fato, úteis para o aprendizado e não causem ruídos.\n",
    "\n",
    "$_{ \\text{1. } n \\text{ deve ser avaliado para cada cenário }}$"
   ]
  }
 ],
 "metadata": {
  "kernelspec": {
   "display_name": ".venv",
   "language": "python",
   "name": "python3"
  },
  "language_info": {
   "codemirror_mode": {
    "name": "ipython",
    "version": 3
   },
   "file_extension": ".py",
   "mimetype": "text/x-python",
   "name": "python",
   "nbconvert_exporter": "python",
   "pygments_lexer": "ipython3",
   "version": "3.12.3"
  }
 },
 "nbformat": 4,
 "nbformat_minor": 5
}
